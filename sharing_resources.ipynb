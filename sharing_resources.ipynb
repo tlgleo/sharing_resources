{
 "cells": [
  {
   "cell_type": "markdown",
   "metadata": {},
   "source": [
    "This file contains an enhanced version of the Sharing_resources.ipynb file:\n",
    "* the code has been slighlty refactored (e.g. more explicit variable names)\n",
    "* in the show() function, the bar plot figure automatically scales\n",
    "* the python logging package is now used for debug messages\n",
    "* it includes additional code for a pure tit-for-tat baseline"
   ]
  },
  {
   "cell_type": "code",
   "execution_count": 1,
   "metadata": {},
   "outputs": [],
   "source": [
    "import logging\n",
    "import math\n",
    "from collections import deque\n",
    "\n",
    "import numpy as np\n",
    "import matplotlib.pyplot as plt\n",
    "from sklearn import metrics\n",
    "from pyswarm import pso"
   ]
  },
  {
   "cell_type": "code",
   "execution_count": 2,
   "metadata": {},
   "outputs": [],
   "source": [
    "# disable matplotlib log messages\n",
    "logging.getLogger(\"matplotlib.font_manager\").disabled = True\n",
    "\n",
    "logging.basicConfig(\n",
    "    format=\"%(asctime)s - %(levelname)s - %(funcName)20s() - %(message)s\",\n",
    "    datefmt=\"%Y-%m-%d %H:%M:%S\",\n",
    "    level=logging.INFO\n",
    ")"
   ]
  },
  {
   "cell_type": "code",
   "execution_count": 3,
   "metadata": {},
   "outputs": [],
   "source": [
    "#### functions to transform 1-array into triangular inf matrix  and vice versa ####\n",
    "\n",
    "def i2j_to_k(i, j):\n",
    "    return i*(i-1)/2 + j\n",
    "\n",
    "\n",
    "def k_to_i2j(k):\n",
    "    i = int((1+math.sqrt(1+8*k))/2)\n",
    "    j = int(k - i*(i-1)/2)\n",
    "    return (i,j)\n",
    "    \n",
    "\n",
    "def d1_2_mat(d):\n",
    "    l = len(d)\n",
    "    (n, _) = k_to_i2j(l)\n",
    "    #logging.debug(n)\n",
    "    mat = np.zeros([n,n])\n",
    "    for k in range(l):\n",
    "            (i,j) = k_to_i2j(k)\n",
    "            mat[i,j] = d[k]\n",
    "            mat[j,i] = -d[k]\n",
    "    return mat\n",
    "\n",
    "\n",
    "def mat_2_d1(mat):\n",
    "    \n",
    "    (n,_) = np.shape(mat)\n",
    "    n-=1\n",
    "    k_max = int(n*(n-1)/2 + n)\n",
    "    liste = []\n",
    "    for k in range(k_max):\n",
    "        (i,j) = k_to_i2j(k)\n",
    "        liste.append(mat[k_to_i2j(k)])\n",
    "        \n",
    "    return np.array(liste)\n",
    "\n",
    "\n",
    "def d1_2_mat_list(d, n_Item):\n",
    "    \n",
    "    item_list = np.reshape(np.array(d), (n_Item, -1))\n",
    "    l = len(item_list[0])\n",
    "    \n",
    "    (n, _) = k_to_i2j(l)\n",
    "\n",
    "    mat = np.zeros([n_Item,n,n])\n",
    "    \n",
    "    for it in range(n_Item):\n",
    "\n",
    "        for k in range(l):\n",
    "                (i,j) = k_to_i2j(k)\n",
    "                mat[it,i,j] = item_list[it,k]\n",
    "                mat[it,j,i] = -item_list[it,k]\n",
    "    return mat\n",
    "\n",
    "\n",
    "def mat_2_d1_list(mat):\n",
    "    \n",
    "    liste_totale = []\n",
    "    (n_item, n,_) = np.shape(mat)\n",
    "    n-=1\n",
    "    k_max = int(n*(n-1)/2 + n)\n",
    "    for it in range(n_item):\n",
    "        liste = []\n",
    "        for k in range(k_max):\n",
    "            (i,j) = k_to_i2j(k)\n",
    "            liste.append(mat[it,i,j])\n",
    "            \n",
    "        liste_totale+= liste\n",
    "\n",
    "    return np.array(liste_totale)    "
   ]
  },
  {
   "cell_type": "code",
   "execution_count": 4,
   "metadata": {},
   "outputs": [],
   "source": [
    "def detection_cooperation(env, id_agent_source, last_offer, full_observation=False): #ratio other agent gave / what I could give\n",
    "    n_agents = env.n_agents\n",
    "    agent = env.agents[id_agent_source]\n",
    "    history = env.transactions_history_numpy\n",
    "    \n",
    "    if len(history) < 2:\n",
    "        return np.zeros(n_agents)\n",
    "    else:\n",
    "        # history[-1] holds the transactions of the current round\n",
    "        # history[-2] holds the transactions of the last round\n",
    "        last_transaction = history[-2]\n",
    "        logging.debug('last_transaction: ' + '\\n' + repr(last_transaction))\n",
    "        if full_observation == True:\n",
    "            last_trans = last_transaction.sum(1) #what each agent gave\n",
    "            #last_offer = agent.last_offers[-1]\n",
    "        else: # partial observation only, the given agent has no view on other agents' transactions\n",
    "            last_trans = last_transaction[:, id_agent_source] * (n_agents - 1) #what each agent gave\n",
    "        \n",
    "        my_offer_max = np.sum(np.maximum(last_offer, 0))\n",
    "        coop_degrees = np.clip(last_trans/my_offer_max, 0, 1)\n",
    "    \n",
    "        return coop_degrees"
   ]
  },
  {
   "cell_type": "code",
   "execution_count": 5,
   "metadata": {},
   "outputs": [],
   "source": [
    "def TFT(beta, r, alpha, pure_tft):\n",
    "    \n",
    "    def calculate_coop_degrees(old_coop_degrees, detected_coop_degrees, r, step):\n",
    "        nonlocal alpha # to avoid \"local variable ... referenced before assignment\" \n",
    "        nonlocal beta # to avoid \"local variable ... referenced before assignment\" \n",
    "        # if pure tit-for-tat is wanted, then enforce a cooperative degree during the first step\n",
    "        if pure_tft:\n",
    "            if beta != 1.0:\n",
    "                logging.warning('enforcing beta==1.0 given that pure TFT is wanted')\n",
    "                beta = 1.0\n",
    "            if step == 1:\n",
    "                old_coop_degrees = np.array([ 1.0 for x in range(old_coop_degrees.shape[0])])\n",
    "                \n",
    "        delta = detected_coop_degrees - old_coop_degrees        \n",
    "        r = np.maximum(r + alpha * delta, 0)            \n",
    "        new_coop_degrees = beta*old_coop_degrees + (1-beta)*(r + (1-r)*detected_coop_degrees)        \n",
    "        logging.debug('step:'+repr(step)+', new_coop_degrees:' + repr(new_coop_degrees))\n",
    "        return new_coop_degrees, r\n",
    "        \n",
    "    return calculate_coop_degrees, r"
   ]
  },
  {
   "cell_type": "code",
   "execution_count": 6,
   "metadata": {},
   "outputs": [],
   "source": [
    "class Agent:\n",
    "    def __init__(self, id_agent, n_agents, n_items, neg_algo=0):\n",
    "        self.n_agents = n_agents\n",
    "        self.n_items = n_items\n",
    "        self.id_agent = id_agent\n",
    "        self.old_coop_degrees = np.zeros(self.n_agents)\n",
    "        self.ut_function = []\n",
    "        self.last_offers = []\n",
    "        tft_algo, r = neg_algo\n",
    "        self.negotiation_algo = tft_algo\n",
    "        self.r = r * np.ones(self.n_agents)\n",
    "        \n",
    "    def coop_detection(self, env):\n",
    "        n_agents = env.n_agents\n",
    "        id_agent_source = self.id_agent\n",
    "        if len(self.last_offers) == 0:\n",
    "            # no last offer\n",
    "            return np.zeros(n_agents)            \n",
    "        else:\n",
    "            # presence last offer(s)\n",
    "            last_offer = self.last_offers[-1]\n",
    "            output = detection_cooperation(env, id_agent_source, last_offer)\n",
    "            return output \n",
    "        \n",
    "    def offer(self, env):\n",
    "        tran= env.optimize_localy(self.id_agent)\n",
    "        self.last_offers.append(tran)\n",
    "        return tran\n",
    "    \n",
    "    def negotiation(self, detected_coop_degrees, step):\n",
    "        coop_degrees, r_new = self.negotiation_algo(self.old_coop_degrees, \n",
    "                                                    detected_coop_degrees, \n",
    "                                                    self.r, \n",
    "                                                    step)\n",
    "        self.r = r_new\n",
    "        self.old_coop_degrees = coop_degrees\n",
    "        return coop_degrees"
   ]
  },
  {
   "cell_type": "code",
   "execution_count": 7,
   "metadata": {},
   "outputs": [],
   "source": [
    "class Environment:\n",
    "    def __init__(self, n_agents, n_items, list_agents = []):\n",
    "        self.n_agents = n_agents\n",
    "        self.agents = list_agents\n",
    "        self.n_items = n_items\n",
    "        self.t = 0 #step \n",
    "        self.state = np.zeros([n_agents, n_items])\n",
    "        self.states_history = [] #history of states\n",
    "        self.transactions_history = []\n",
    "        self.transactions_history_numpy = []\n",
    "        \n",
    "        self.optimal_SW = 0 #optimal social welfare \n",
    "        self.hist_SW = [] #evolution of social welfare\n",
    "        self.hist_ut_agents = [[] for _ in range(self.n_agents)] #evolution of utilities of agents \n",
    "        \n",
    "        self.hist_coop_degrees = [] #evolution of cooperation degrees\n",
    "        \n",
    "        \n",
    "    def init_state(self, state):\n",
    "        s = np.copy(state)\n",
    "        self.state = s\n",
    "        self.t = 0\n",
    "        \n",
    "    def next_round(self):\n",
    "        self.t += 1\n",
    "        self.transactions_history.append([])\n",
    "        self.transactions_history_numpy.append(np.zeros([self.n_agents, self.n_agents]))\n",
    "        \n",
    "    def replace_agents(self, list_agents):\n",
    "        self.agents = list_agents\n",
    "        \n",
    "    def clip_state(self, lb, ub):\n",
    "        self.state = np.clip(self.state, lb, ub)\n",
    "    \n",
    "    def random_init(self, mean=0, std=1):\n",
    "        self.state = np.random.normal(mean, std, size = [self.n_agents, self.n_items])\n",
    "        \n",
    "    def transaction(self, id_agent_source, id_agent_target, id_item, quantity):\n",
    "        self.state[id_agent_target, id_item] += quantity\n",
    "        self.state[id_agent_source, id_item] -= quantity\n",
    "        \n",
    "        self.transactions_history[-1].append((self.t, id_agent_source, id_agent_target, id_item, quantity))\n",
    "        \n",
    "        #update quantities shared between agents (independently of items)\n",
    "        self.transactions_history_numpy[-1][id_agent_source, id_agent_target] += quantity\n",
    "        \n",
    "        \n",
    "        \n",
    "    def add_transactions_np(self, state, transactions):\n",
    "        #state : array nA x nI\n",
    "        #transactions : array nI x nA x nA\n",
    "\n",
    "        (nA, nI) = np.shape(state)\n",
    "        new_s = state.copy()\n",
    "        for item in range(nI):\n",
    "            for agent in range(nA):\n",
    "                new_s[agent, item] -= transactions[item, agent, : ].sum()\n",
    "\n",
    "        return new_s\n",
    "    \n",
    "    def add_transactions_var(self, state, trans_var):\n",
    "        #state : array nA x nI\n",
    "        #trans_var : variable for optimisation, list\n",
    "        transactions = d1_2_mat_list(trans_var, self.n_items)\n",
    "        return self.add_transactions_np(state, transactions)\n",
    "    \n",
    "\n",
    "    def global_utility(self, state, lb =-2.0, ub = 100.0):\n",
    "        s = np.copy(state)\n",
    "        s = np.clip(s, lb, ub)\n",
    "        return -np.log(s+2+1e-8).sum()\n",
    "    \n",
    "    def local_utility(self, state, id_agent):\n",
    "        s = np.copy(state)\n",
    "        s = s[id_agent,:]\n",
    "        s = np.clip(s, -2, 100)\n",
    "        return -np.log(s+2+1e-8).sum()\n",
    "    \n",
    "    def optimize_localy(self, id_agent, lb = -4, ub = 4, min_cons = -1):\n",
    "        (nA, nI) = self.n_agents, self.n_items\n",
    "        size_var = nI #size of variable \n",
    "        lb_list = lb * np.ones(size_var) #lower bounds\n",
    "        ub_list = ub * np.ones(size_var) #upper bounds\n",
    "        \n",
    "        s_tmp = np.copy(self.state)\n",
    "        \n",
    "        def f_opt(dx): #utility function for pso\n",
    "            s = np.copy(s_tmp)\n",
    "            s[id_agent, :] += dx\n",
    "            return self.local_utility(s, id_agent) + 0.01 * np.linalg.norm(dx)\n",
    "            \n",
    "        def constraint(dx):\n",
    "            s = np.copy(s_tmp)\n",
    "            s[id_agent, :] += dx       \n",
    "            s = s[id_agent]        \n",
    "            const_out1 = s-min_cons\n",
    "            const_out2 = np.array([-dx.sum()])\n",
    "            const_out = np.concatenate((const_out1, const_out2))\n",
    "\n",
    "            return const_out\n",
    "        \n",
    "        xopt, fopt = pso(f_opt, f_ieqcons= constraint, lb=lb_list, ub=ub_list, maxiter=200, swarmsize=200)\n",
    "        \n",
    "        return(xopt)\n",
    "    \n",
    "    \n",
    "    def optimize_globally(self, lb = -2.0, ub = 2.0):\n",
    "        (nA, nI) = self.n_agents, self.n_items\n",
    "        k_max = nI * ( int((nA-1)*(nA-2)/2 + nA-1)  )\n",
    "        d_var = np.zeros(k_max)\n",
    "        lb_list = lb*np.ones(k_max)\n",
    "        ub_list = ub*np.ones(k_max)\n",
    "        \n",
    "        s = self.state.copy()\n",
    "        \n",
    "        def f_opt(dx):\n",
    "            \n",
    "            trans_var_np = d1_2_mat_list(dx, self.n_items)\n",
    "            new_s_tmp = self.add_transactions_np(s, trans_var_np)\n",
    "            \n",
    "            fusion_items = trans_var_np.sum(0)\n",
    "            received_agents = fusion_items.sum(1)\n",
    "            \n",
    "            return self.global_utility(new_s_tmp) + 0.1*np.linalg.norm(received_agents) + 0.1 * np.linalg.norm(dx) \n",
    "    \n",
    "        def constraint(dx):\n",
    "            \n",
    "            trans_var_np = d1_2_mat_list(dx, self.n_items)\n",
    "            new_s_tmp = self.add_transactions_np(s, trans_var_np)\n",
    "            \n",
    "            const_out = new_s_tmp - min_cons\n",
    "            #const_out2 = np.array([-dx.sum()])\n",
    "            #const_out = np.concatenate((const_out1,const_out2))\n",
    "\n",
    "            return const_out\n",
    "    \n",
    "        xopt, fopt = pso(f_opt, lb_list, ub_list, maxiter=300, swarmsize=300)\n",
    "        \n",
    "        transactions = d1_2_mat_list(xopt, self.n_items)\n",
    "        new_s = self.add_transactions_np(s, transactions)\n",
    "        logging.debug('transactions: \\n' + '\\n' + repr(transactions))\n",
    "        logging.debug('new_s: \\n' + repr(new_s))\n",
    "        gu = self.global_utility(new_s)\n",
    "        logging.debug('gu: '+str(gu))\n",
    "        return(transactions, new_s, gu)\n",
    "        \n",
    "    def optimal_social_welfare(self):\n",
    "        (transactions, new_s, fopt) = self.optimize_globally()\n",
    "        self.optimal_SW = fopt\n",
    "        return fopt\n",
    "        \n",
    "    def get_observation(self, id_agent):\n",
    "        return self.state[id_agent, :]\n",
    "    \n",
    "    \n",
    "    def allocation(self, coop_degrees, demands):\n",
    "        \n",
    "        # demands greater than zero correspond to demands\n",
    "        agents_demands = np.maximum(demands, 0)\n",
    "        \n",
    "        # demands lower than zero correspond to offers\n",
    "        agents_offers = -np.minimum(demands, 0)\n",
    "        \n",
    "        logging.debug('agents_demands\\n' + repr(agents_demands))\n",
    "        logging.debug('agents_offers\\n' + repr(agents_offers))\n",
    "        for it in range(self.n_items):\n",
    "            for agent_source in range(self.n_agents):\n",
    "                source_offer = agents_offers[agent_source, it]\n",
    "                \n",
    "                if source_offer > 0: #agent_source can give source_offer for item it\n",
    "                    demands_targets = np.zeros([self.n_agents])\n",
    "                    parts_targets = np.zeros([self.n_agents])  \n",
    "                    \n",
    "                    for agent_target in range(self.n_agents):\n",
    "                        target_demand = agents_demands[agent_target, it] #demand of agent_target if < 0\n",
    "                        target_demand_clip = min(target_demand, source_offer)\n",
    "                        demands_targets[agent_target] = target_demand_clip\n",
    "                        parts_targets[agent_target] = target_demand_clip\n",
    "                    total_demand = demands_targets.sum()\n",
    "\n",
    "                    for agent_target in range(self.n_agents):\n",
    "                        alloc = demands_targets[agent_target]*coop_degrees[agent_source, agent_target]*source_offer \n",
    "                        if total_demand != 0:\n",
    "                            alloc /= total_demand\n",
    "                        alloc = min(alloc, source_offer)\n",
    "                        \n",
    "                        self.transaction(agent_source, agent_target, it, alloc)\n",
    "\n",
    "\n",
    "    def show(self, display_step=False):\n",
    "        \n",
    "        mini = 0\n",
    "        maxi = 0\n",
    "        for i in range(self.n_agents):\n",
    "            mini = min(self.get_observation(i).min(), mini) \n",
    "            maxi = max(self.get_observation(i).max(), maxi) \n",
    "        mini -= 1\n",
    "        maxi += 1\n",
    "        #logging.debug('mini:'+repr(mini)+', maxi:'+repr(maxi))\n",
    "        fig, axs = plt.subplots(1, self.n_agents)\n",
    "        \n",
    "        for i in range(self.n_agents):\n",
    "            axs[i].bar(np.arange(self.n_items), self.get_observation(i), orientation = 'vertical')\n",
    "            axs[i].set_ylim(ymin=mini, ymax=maxi, auto=False)\n",
    "            \n",
    "            if display_step:\n",
    "                axs[i].set_title('Agent ' + str(i+1) + ' at step-' + str(self.t))\n",
    "            else:\n",
    "                axs[i].set_title('Agent ' + str(i+1))\n",
    "            \n",
    "\n",
    "#env = Environment(3,4, agents)     "
   ]
  },
  {
   "cell_type": "code",
   "execution_count": 8,
   "metadata": {},
   "outputs": [],
   "source": [
    "STATE_B = np.array([\n",
    "    [-1.0,  2.0,  0.0,  1.0],\n",
    "    [ 3.0,  1.0, -1.0,  1.0],\n",
    "    [ 1.0, -1.0,  3.0,  1.0],\n",
    "    \n",
    "])\n",
    "\n",
    "STATE_C = np.array([\n",
    "    [0.0,  2.0,  0.0,  1.0, -1.0,  1.0],\n",
    "    [2.0,  2.0, -1.0,  1.0, -1.0,  0.0],\n",
    "    [1.0, -1.0,  1.0, -1.0,  2.0,  1.0],\n",
    "    \n",
    "])\n",
    "\n",
    "STATE_D = np.array([\n",
    "    [-1.0,  1.0,  0.0,  1.0, -1.0,  1.0],\n",
    "    [-1.0,  1.0, -1.0,  1.0, -1.0,  0.0],\n",
    "    [ 1.0, -1.0,  1.0, -1.0,  1.0,  1.0],\n",
    "    [-1.0,    0,  1.0, -1.0, -1.0,  1.0],\n",
    "    \n",
    "])\n",
    "\n",
    "STATE_E = np.array([\n",
    "    [-1.,  2.,  2.],\n",
    "    [ 2.,  2., -1.],\n",
    "    [ 2., -1.,  2.]\n",
    "])\n",
    "\n",
    "STATE_F = np.array([\n",
    "    [-1.,  8.,  8.],\n",
    "    [ 2.,  2., -1.],\n",
    "    [ 2., -1.,  2.]\n",
    "])"
   ]
  },
  {
   "cell_type": "code",
   "execution_count": 9,
   "metadata": {},
   "outputs": [],
   "source": [
    "def episode(env):\n",
    "    n_agents = env.n_agents\n",
    "    n_items = env.n_items\n",
    "    opt_sw = env.optimal_social_welfare()\n",
    "    logging.debug('opt_sw:'+repr(opt_sw))\n",
    "    env.next_round()\n",
    "    \n",
    "    env.states_history.append(env.state)\n",
    "    current_SW = env.global_utility(env.state)\n",
    "    env.hist_SW.append(current_SW)\n",
    "    \n",
    "    for i_A in range(n_agents):\n",
    "        uti_agent = env.local_utility(env.state, i_A)\n",
    "        env.hist_ut_agents[i_A].append(uti_agent)\n",
    "    \n",
    "    env.show()\n",
    "\n",
    "    demands = np.zeros([n_agents, n_items])\n",
    "    \n",
    "    coop_degrees = np.zeros([n_agents, n_agents])\n",
    "    \n",
    "    for i_agent in range(n_agents):\n",
    "        transa = env.agents[i_agent].offer(env)\n",
    "        logging.debug('xm transa:'+repr(transa))\n",
    "        env.agents[i_agent].last_offers.append(transa)\n",
    "        logging.debug('transa: ' + repr(transa))\n",
    "        \n",
    "        logging.debug('agent: '+str(i_agent))\n",
    "        coop_degree_detected = env.agents[i_agent].coop_detection(env)\n",
    "        logging.debug('coop_degree_detected: ' + repr(coop_degree_detected))\n",
    "        \n",
    "        coop_deg_i = env.agents[i_agent].negotiation(coop_degree_detected, env.t)\n",
    "        logging.debug('xm: coop deg negociated '+repr(coop_deg_i))\n",
    "        \n",
    "        demands[i_agent, : ] = transa\n",
    "        coop_degrees[i_agent,:] = coop_deg_i\n",
    "        \n",
    "    coop_degrees = np.clip(coop_degrees, 0, 1)\n",
    "    \n",
    "    logging.debug('coop_degrees:'+repr(coop_degrees))\n",
    "    env.hist_coop_degrees.append(coop_degrees)\n",
    "    \n",
    "    logging.debug('demands:'+ repr(demands))\n",
    "    env.allocation(coop_degrees, demands)\n",
    "    #logging.debug(np.sum(env.state, axis=1))"
   ]
  },
  {
   "cell_type": "code",
   "execution_count": 10,
   "metadata": {},
   "outputs": [],
   "source": [
    "foo = np.array([1, 2])\n",
    "\n",
    "logging.debug('foo:'+repr(foo))"
   ]
  },
  {
   "cell_type": "code",
   "execution_count": 11,
   "metadata": {},
   "outputs": [],
   "source": [
    "def mean_coop_degrees(matrix_list):\n",
    "    if matrix_list == []:\n",
    "        return []\n",
    "    else:\n",
    "        (n_A,_) = np.shape(matrix_list[0])\n",
    "        output = [ [[] for _ in range(n_A)], [[] for _ in range(n_A)] ]  #curves for mean receiving AND sending coop degree \n",
    "        for coop_degrees_mat in matrix_list:\n",
    "            rece_coop = coop_degrees_mat.sum(0)\n",
    "            send_coop = coop_degrees_mat.sum(1)\n",
    "            for i_A in range(n_A):\n",
    "                mean_rece = (rece_coop[i_A] - coop_degrees_mat[i_A,i_A])/(n_A-1)\n",
    "                output[0][i_A].append(mean_rece)    #receiving coop degree mean for agent i_A\n",
    "\n",
    "                mean_send = (send_coop[i_A] - coop_degrees_mat[i_A,i_A])/(n_A-1)\n",
    "                output[1][i_A].append(mean_send)    #receiving coop degree mean for agent i_A\n",
    "\n",
    "        return output"
   ]
  },
  {
   "cell_type": "code",
   "execution_count": 12,
   "metadata": {},
   "outputs": [],
   "source": [
    "def figure_utilities(sw, list_ut, output_fig, max_t, lu=2,uu=4):\n",
    "    colors = ['b','m','c','r']\n",
    "    t_max = min(len(sw), max_t)\n",
    "    t = np.arange(t_max)\n",
    "    \n",
    "    fig, ax1 = plt.subplots()\n",
    "\n",
    "    color = 'b'\n",
    "    ax1.set_xlabel('Rounds', fontsize = 14)\n",
    "    ax1.set_ylabel('Social Welfare', color='g', fontsize = 14)\n",
    "    ax1.plot(t, sw[:t_max], color='g', label=\"Social Welfare\")\n",
    "    ax1.tick_params(axis='y', labelcolor='g', labelsize = 14)\n",
    "    plt.legend(loc=2, fontsize=13)\n",
    "\n",
    "    ax2 = ax1.twinx()  \n",
    "    ax2.set_ylabel('Individual Utility', color=color, fontsize = 14) \n",
    "    ax2.set_ylim(lu, uu)\n",
    "    ax2.tick_params(axis='y', labelcolor=color, labelsize = 14)\n",
    "    ax1.tick_params(axis='x', labelsize = 14)\n",
    "\n",
    "\n",
    "\n",
    "    for i_A in range(len(list_ut)):\n",
    "        color = colors[i_A]\n",
    "        label = \"Agent \"+str(i_A+1)\n",
    "        if i_A == 5:\n",
    "            label = \"Egoist\"\n",
    "        ax2.plot(t, list_ut[i_A][:t_max], color=color, label=label)\n",
    "    \n",
    "    plt.legend(loc=4, fontsize=13)\n",
    "        \n",
    "    fig.tight_layout() # otherwise the right y-label is slightly clipped\n",
    "    fig.savefig(output_fig)\n",
    "    plt.show()"
   ]
  },
  {
   "cell_type": "code",
   "execution_count": 13,
   "metadata": {},
   "outputs": [],
   "source": [
    "def figure_coop_degrees_mean(list_coop, output_fig, max_t, lc=0 ,uc=1):\n",
    "    colors = ['b','m','c','g','r']\n",
    "    \n",
    "    t_max = min(len(list_coop[0][0]), max_t)\n",
    "    t = np.arange(t_max)\n",
    "\n",
    "    fig, ax1 = plt.subplots()\n",
    "\n",
    "    color = 'b'\n",
    "    ax1.set_xlabel('Rounds', fontsize=14)\n",
    "    ax1.set_ylabel('Mean Cooperation Degree',fontsize=14)\n",
    "\n",
    "    ax1.set_ylim(lc, uc)\n",
    "\n",
    "    ax1.tick_params(axis='y', labelsize=14)\n",
    "    ax1.tick_params(axis='x', labelsize=14)\n",
    "    \n",
    "    for i_A in range(len(list_coop[0])):\n",
    "        color = colors[i_A]\n",
    "        if i_A != 5:\n",
    "            label = \"Agent \"+str(i_A+1)\n",
    "        else:\n",
    "            label = \"Egoist\"\n",
    "        ax1.plot(t, list_coop[0][i_A][:t_max], color, label = label + \" : receiving\")\n",
    "        ax1.plot(t, list_coop[1][i_A][:t_max], color+\"--\", label = label + \" : sending\")\n",
    "        plt.legend(loc=4, fontsize=13)\n",
    "        \n",
    "    fig.tight_layout() # otherwise the right y-label is slightly clipped\n",
    "    fig.savefig(output_fig)\n",
    "    plt.show()"
   ]
  },
  {
   "cell_type": "code",
   "execution_count": 14,
   "metadata": {},
   "outputs": [],
   "source": [
    "def affiche(env, output, lu, uu, lc, uc):\n",
    "    y_A = env.hist_ut_agents[0]\n",
    "    y_B = env.hist_ut_agents[1]\n",
    "    y_C = env.hist_ut_agents[2]\n",
    "    #y_D = env.hist_ut_agents[3]\n",
    "    y = env.hist_SW\n",
    "\n",
    "    y_A = [-x for x in y_A]\n",
    "    y_B = [-x for x in y_B]\n",
    "    y_C = [-x for x in y_C]\n",
    "    #y_D = [-x for x in y_D]\n",
    "    y = [-x for x in y]\n",
    "    \n",
    "    mean_coop_degrees_expe = mean_coop_degrees(env.hist_coop_degrees)\n",
    "    \n",
    "    figure_utilities(y, [y_A, y_B, y_C], 'evolution_utilities_'+output +'.svg',10, lu, uu)\n",
    "    \n",
    "    figure_coop_degrees_mean(mean_coop_degrees_expe, 'evolution_cooperation_'+output+'.svg',10, lc, uc)    "
   ]
  },
  {
   "cell_type": "code",
   "execution_count": 15,
   "metadata": {},
   "outputs": [],
   "source": [
    "def efficiency(list_SW, SW_opt):\n",
    "    SW_0 = list_SW[0]\n",
    "    output = []\n",
    "    \n",
    "    for sw in list_SW:\n",
    "        e = min((-sw + SW_0) / (-SW_opt + SW_0), 1)\n",
    "        output.append(e)\n",
    "        \n",
    "    return output"
   ]
  },
  {
   "cell_type": "code",
   "execution_count": 16,
   "metadata": {},
   "outputs": [],
   "source": [
    "def speed(list_eff, T):\n",
    "    final_efficiency = list_eff[-1]\n",
    "    x = np.arange(T)    \n",
    "    return metrics.auc(x, list_eff[:T])/(T*final_efficiency)"
   ]
  },
  {
   "cell_type": "code",
   "execution_count": 17,
   "metadata": {},
   "outputs": [],
   "source": [
    "def analyse(state, beta, r, alpha, pure_tft=False, N_iter=10):\n",
    "    algo = TFT(beta, r, alpha, pure_tft)\n",
    "    #egoist = TFT(1, 0, 0.5), \n",
    "    egoist = TFT(1, 0, 0.5, False)\n",
    "\n",
    "    # n_agents: number of actors, n_items: number of items\n",
    "    n_agents, n_items = np.shape(state)\n",
    "    \n",
    "    T_speed = 10    \n",
    "    T_speed = min(T_speed, N_iter)\n",
    "\n",
    "    a1 = Agent(0, n_agents, n_items, algo)\n",
    "    a2 = Agent(1, n_agents, n_items, algo)\n",
    "    a3 = Agent(2, n_agents, n_items, algo)\n",
    "\n",
    "    b1 = Agent(0, n_agents, n_items, algo)\n",
    "    b2 = Agent(1, n_agents, n_items, algo)\n",
    "    b3 = Agent(2, n_agents, n_items, egoist)\n",
    "    \n",
    "    c1 = Agent(0, n_agents, n_items, algo)\n",
    "    c2 = Agent(1, n_agents, n_items, egoist)\n",
    "    c3 = Agent(2, n_agents, n_items, egoist)\n",
    "\n",
    "    agents_A = [a1, a2, a3]\n",
    "    agents_B = [b1, b2, b3]\n",
    "    agents_C = [c1, c2, c3]\n",
    "\n",
    "    env_A = Environment(n_agents, n_items, agents_A)\n",
    "    env_A.init_state(state)\n",
    "\n",
    "    env_B = Environment(n_agents, n_items, agents_B)\n",
    "    env_B.init_state(state)\n",
    "    \n",
    "    env_C = Environment(n_agents, n_items, agents_C)\n",
    "    env_C.init_state(state)\n",
    "\n",
    "    tra, ns, swopt = env_A.optimize_globally()\n",
    "    logging.debug('swopt:'+ repr(swopt))\n",
    "    for i_ep in range(N_iter):\n",
    "        logging.info('Env A, episode:'+str(i_ep))\n",
    "        episode(env_A)\n",
    "    \n",
    "    for i_ep in range(N_iter):\n",
    "        logging.info('Env B, episode:'+str(i_ep))\n",
    "        episode(env_B)\n",
    "        \n",
    "    for i_ep in range(N_iter):\n",
    "        logging.info('Env C, episode:'+str(i_ep))\n",
    "        episode(env_C)\n",
    "         \n",
    "    effic = efficiency(env_A.hist_SW, swopt)\n",
    "    \n",
    "    ef = effic[-1]\n",
    "\n",
    "    sp = speed(effic, T_speed)\n",
    "    \n",
    "    # all utilities are multiplied by -1 to become positive\n",
    "    # because PSO previously needed to minimize a (negative) function\n",
    "    \n",
    "    # agent-3's utility of following the algo  \n",
    "    # when all 3 agents follow the algo\n",
    "    ut_c_cooperate = -1 * env_A.hist_ut_agents[2][-1]\n",
    "    \n",
    "    # agent-3's utility of not following the algo (a.k.a of being egoist)\n",
    "    # when only 2 agents follow the algo\n",
    "    ut_c_defect = -1 * env_B.hist_ut_agents[2][-1] \n",
    "    \n",
    "    # agent-1's utility of following the algo\n",
    "    # when other agents also follow the algo\n",
    "    ut_a_cooperate_with_b_c_cooperate = -1 * env_A.hist_ut_agents[0][-1] \n",
    "\n",
    "    # agent-1's utility of following the algo\n",
    "    # when other agents do not follow the algo\n",
    "    ut_a_cooperate_with_b_c_defect = -1 * env_C.hist_ut_agents[0][-1] \n",
    "\n",
    "    # incentive-compatability: difference between what the other\n",
    "    # gain to follow and what the other gain not to follow the algo)\n",
    "    # and not following the algo, ponderated by what the other earned \n",
    "    ic = (ut_c_cooperate - ut_c_defect) / ut_c_cooperate\n",
    "    \n",
    "    # safety: difference between what the agent gain if another doe not follow the algo\n",
    "    # and what the agent looses if two others do not follow the algo\n",
    "    safety = ut_a_cooperate_with_b_c_defect - ut_a_cooperate_with_b_c_cooperate\n",
    "    \n",
    "    results = {\n",
    "        'config': {            \n",
    "            'alpha': alpha,\n",
    "            'beta': beta,            \n",
    "            'r': r,\n",
    "            'pure_tft': pure_tft,\n",
    "        },\n",
    "        'envs': {\n",
    "            'env_A': env_A,\n",
    "            'env_B': env_B,\n",
    "            'env_C': env_C,            \n",
    "        },\n",
    "        'efficiency': round(ef, 2),\n",
    "        'speed': round(sp, 2),\n",
    "        'ut_c_cooperate': round(ut_c_cooperate, 2),\n",
    "        'ut_c_defect': round(ut_c_defect, 2),\n",
    "        'ut_a_cooperate_with_b_c_defect': round(ut_a_cooperate_with_b_c_defect, 2),\n",
    "        'ut_a_cooperate_with_b_c_cooperate': round(ut_a_cooperate_with_b_c_cooperate, 2),\n",
    "        'incentive-compatibility': round(ic, 2),\n",
    "        'safety': round(safety, 2),\n",
    "        \n",
    "    }\n",
    "    \n",
    "    return results"
   ]
  },
  {
   "cell_type": "code",
   "execution_count": 18,
   "metadata": {},
   "outputs": [],
   "source": [
    "def do_experiments(state, experiments, pure_tft=False, n_iterations=15):\n",
    "    results = []\n",
    "    for experiment in experiments:\n",
    "        beta, r, alpha = experiment\n",
    "        result = analyse(state, beta, r, alpha, pure_tft, n_iterations)\n",
    "        results.append(result)\n",
    "        \n",
    "    return results"
   ]
  },
  {
   "cell_type": "code",
   "execution_count": 19,
   "metadata": {},
   "outputs": [],
   "source": [
    "experiments = [\n",
    "    # beta, r, alpha\n",
    "    (0.1, 0.05, 0.0), \n",
    "    #(0.1, 0.02, 0.0)\n",
    "]\n",
    "\n",
    "experiments_2 = [\n",
    "    # beta, r, alpha\n",
    "    (0.1, 0.05, 0),\n",
    "    (0.1, 0.02, 0),\n",
    "    (0.3, 0.1,  0),\n",
    "    (0.5, 0.1,  0),\n",
    "    (0.7, 0.1,  0),\n",
    "    (0.1, 0.1,  0.3),\n",
    "    (0.1, 0.1,  0.5),\n",
    "    (0.1, 0.1,  0.7)\n",
    "]"
   ]
  },
  {
   "cell_type": "code",
   "execution_count": 20,
   "metadata": {},
   "outputs": [],
   "source": [
    "state = STATE_E"
   ]
  },
  {
   "cell_type": "code",
   "execution_count": 21,
   "metadata": {},
   "outputs": [
    {
     "name": "stderr",
     "output_type": "stream",
     "text": [
      "2020-11-13 16:24:30 - INFO -              analyse() - Env A, episode:0\n"
     ]
    },
    {
     "name": "stdout",
     "output_type": "stream",
     "text": [
      "Stopping search: Swarm best objective change less than 1e-08\n",
      "Stopping search: Swarm best objective change less than 1e-08\n",
      "Stopping search: Swarm best objective change less than 1e-08\n",
      "Stopping search: Swarm best objective change less than 1e-08\n"
     ]
    },
    {
     "name": "stderr",
     "output_type": "stream",
     "text": [
      "2020-11-13 16:24:34 - INFO -              analyse() - Env A, episode:1\n"
     ]
    },
    {
     "name": "stdout",
     "output_type": "stream",
     "text": [
      "Stopping search: Swarm best objective change less than 1e-08\n",
      "Stopping search: Swarm best objective change less than 1e-08\n",
      "Stopping search: Swarm best objective change less than 1e-08\n",
      "Stopping search: Swarm best objective change less than 1e-08\n"
     ]
    },
    {
     "name": "stderr",
     "output_type": "stream",
     "text": [
      "2020-11-13 16:24:38 - INFO -              analyse() - Env A, episode:2\n"
     ]
    },
    {
     "name": "stdout",
     "output_type": "stream",
     "text": [
      "Stopping search: Swarm best objective change less than 1e-08\n",
      "Stopping search: Swarm best objective change less than 1e-08\n",
      "Stopping search: Swarm best objective change less than 1e-08\n",
      "Stopping search: Swarm best objective change less than 1e-08\n"
     ]
    },
    {
     "name": "stderr",
     "output_type": "stream",
     "text": [
      "2020-11-13 16:24:41 - INFO -              analyse() - Env A, episode:3\n"
     ]
    },
    {
     "name": "stdout",
     "output_type": "stream",
     "text": [
      "Stopping search: Swarm best objective change less than 1e-08\n",
      "Stopping search: Swarm best objective change less than 1e-08\n",
      "Stopping search: Swarm best objective change less than 1e-08\n",
      "Stopping search: Swarm best objective change less than 1e-08\n"
     ]
    },
    {
     "name": "stderr",
     "output_type": "stream",
     "text": [
      "2020-11-13 16:24:45 - INFO -              analyse() - Env A, episode:4\n"
     ]
    },
    {
     "name": "stdout",
     "output_type": "stream",
     "text": [
      "Stopping search: Swarm best objective change less than 1e-08\n",
      "Stopping search: Swarm best objective change less than 1e-08\n",
      "Stopping search: Swarm best objective change less than 1e-08\n",
      "Stopping search: Swarm best objective change less than 1e-08\n"
     ]
    },
    {
     "name": "stderr",
     "output_type": "stream",
     "text": [
      "2020-11-13 16:24:50 - INFO -              analyse() - Env A, episode:5\n"
     ]
    },
    {
     "name": "stdout",
     "output_type": "stream",
     "text": [
      "Stopping search: Swarm best objective change less than 1e-08\n",
      "Stopping search: Swarm best objective change less than 1e-08\n",
      "Stopping search: Swarm best objective change less than 1e-08\n",
      "Stopping search: Swarm best objective change less than 1e-08\n"
     ]
    },
    {
     "name": "stderr",
     "output_type": "stream",
     "text": [
      "2020-11-13 16:24:54 - INFO -              analyse() - Env A, episode:6\n"
     ]
    },
    {
     "name": "stdout",
     "output_type": "stream",
     "text": [
      "Stopping search: Swarm best objective change less than 1e-08\n",
      "Stopping search: Swarm best objective change less than 1e-08\n",
      "Stopping search: Swarm best objective change less than 1e-08\n",
      "Stopping search: Swarm best objective change less than 1e-08\n"
     ]
    },
    {
     "name": "stderr",
     "output_type": "stream",
     "text": [
      "2020-11-13 16:24:58 - INFO -              analyse() - Env A, episode:7\n"
     ]
    },
    {
     "name": "stdout",
     "output_type": "stream",
     "text": [
      "Stopping search: Swarm best objective change less than 1e-08\n",
      "Stopping search: Swarm best objective change less than 1e-08\n",
      "Stopping search: Swarm best objective change less than 1e-08\n",
      "Stopping search: Swarm best objective change less than 1e-08\n"
     ]
    },
    {
     "name": "stderr",
     "output_type": "stream",
     "text": [
      "2020-11-13 16:25:02 - INFO -              analyse() - Env A, episode:8\n"
     ]
    },
    {
     "name": "stdout",
     "output_type": "stream",
     "text": [
      "Stopping search: Swarm best objective change less than 1e-08\n",
      "Stopping search: Swarm best objective change less than 1e-08\n",
      "Stopping search: Swarm best objective change less than 1e-08\n",
      "Stopping search: Swarm best objective change less than 1e-08\n"
     ]
    },
    {
     "name": "stderr",
     "output_type": "stream",
     "text": [
      "2020-11-13 16:25:07 - INFO -              analyse() - Env A, episode:9\n"
     ]
    },
    {
     "name": "stdout",
     "output_type": "stream",
     "text": [
      "Stopping search: Swarm best objective change less than 1e-08\n",
      "Stopping search: Swarm best objective change less than 1e-08\n",
      "Stopping search: Swarm best objective change less than 1e-08\n",
      "Stopping search: Swarm best objective change less than 1e-08\n"
     ]
    },
    {
     "name": "stderr",
     "output_type": "stream",
     "text": [
      "2020-11-13 16:25:10 - INFO -              analyse() - Env A, episode:10\n"
     ]
    },
    {
     "name": "stdout",
     "output_type": "stream",
     "text": [
      "Stopping search: Swarm best objective change less than 1e-08\n",
      "Stopping search: Swarm best objective change less than 1e-08\n",
      "Stopping search: Swarm best objective change less than 1e-08\n",
      "Stopping search: Swarm best objective change less than 1e-08\n"
     ]
    },
    {
     "name": "stderr",
     "output_type": "stream",
     "text": [
      "2020-11-13 16:25:14 - INFO -              analyse() - Env A, episode:11\n"
     ]
    },
    {
     "name": "stdout",
     "output_type": "stream",
     "text": [
      "Stopping search: Swarm best objective change less than 1e-08\n",
      "Stopping search: Swarm best objective change less than 1e-08\n",
      "Stopping search: Swarm best objective change less than 1e-08\n",
      "Stopping search: Swarm best objective change less than 1e-08\n"
     ]
    },
    {
     "name": "stderr",
     "output_type": "stream",
     "text": [
      "2020-11-13 16:25:19 - INFO -              analyse() - Env A, episode:12\n"
     ]
    },
    {
     "name": "stdout",
     "output_type": "stream",
     "text": [
      "Stopping search: Swarm best objective change less than 1e-08\n",
      "Stopping search: Swarm best objective change less than 1e-08\n",
      "Stopping search: Swarm best objective change less than 1e-08\n",
      "Stopping search: Swarm best objective change less than 1e-08\n"
     ]
    },
    {
     "name": "stderr",
     "output_type": "stream",
     "text": [
      "2020-11-13 16:25:23 - INFO -              analyse() - Env A, episode:13\n"
     ]
    },
    {
     "name": "stdout",
     "output_type": "stream",
     "text": [
      "Stopping search: Swarm best objective change less than 1e-08\n",
      "Stopping search: Swarm best objective change less than 1e-08\n",
      "Stopping search: Swarm best objective change less than 1e-08\n",
      "Stopping search: Swarm best objective change less than 1e-08\n"
     ]
    },
    {
     "name": "stderr",
     "output_type": "stream",
     "text": [
      "2020-11-13 16:25:28 - INFO -              analyse() - Env A, episode:14\n"
     ]
    },
    {
     "name": "stdout",
     "output_type": "stream",
     "text": [
      "Stopping search: Swarm best objective change less than 1e-08\n",
      "Stopping search: Swarm best objective change less than 1e-08\n",
      "Stopping search: Swarm best objective change less than 1e-08\n",
      "Stopping search: Swarm best objective change less than 1e-08\n"
     ]
    },
    {
     "name": "stderr",
     "output_type": "stream",
     "text": [
      "2020-11-13 16:25:31 - INFO -              analyse() - Env B, episode:0\n"
     ]
    },
    {
     "name": "stdout",
     "output_type": "stream",
     "text": [
      "Stopping search: Swarm best objective change less than 1e-08\n",
      "Stopping search: Swarm best objective change less than 1e-08\n",
      "Stopping search: Swarm best objective change less than 1e-08\n",
      "Stopping search: Swarm best objective change less than 1e-08\n"
     ]
    },
    {
     "name": "stderr",
     "output_type": "stream",
     "text": [
      "2020-11-13 16:25:35 - INFO -              analyse() - Env B, episode:1\n"
     ]
    },
    {
     "name": "stdout",
     "output_type": "stream",
     "text": [
      "Stopping search: Swarm best objective change less than 1e-08\n",
      "Stopping search: Swarm best objective change less than 1e-08\n",
      "Stopping search: Swarm best objective change less than 1e-08\n",
      "Stopping search: Swarm best objective change less than 1e-08\n"
     ]
    },
    {
     "name": "stderr",
     "output_type": "stream",
     "text": [
      "2020-11-13 16:25:41 - INFO -              analyse() - Env B, episode:2\n"
     ]
    },
    {
     "name": "stdout",
     "output_type": "stream",
     "text": [
      "Stopping search: Swarm best objective change less than 1e-08\n",
      "Stopping search: Swarm best objective change less than 1e-08\n",
      "Stopping search: Swarm best objective change less than 1e-08\n",
      "Stopping search: Swarm best objective change less than 1e-08\n"
     ]
    },
    {
     "name": "stderr",
     "output_type": "stream",
     "text": [
      "2020-11-13 16:25:44 - INFO -              analyse() - Env B, episode:3\n"
     ]
    },
    {
     "name": "stdout",
     "output_type": "stream",
     "text": [
      "Stopping search: Swarm best objective change less than 1e-08\n",
      "Stopping search: Swarm best objective change less than 1e-08\n",
      "Stopping search: Swarm best objective change less than 1e-08\n",
      "Stopping search: Swarm best objective change less than 1e-08\n"
     ]
    },
    {
     "name": "stderr",
     "output_type": "stream",
     "text": [
      "2020-11-13 16:25:48 - INFO -              analyse() - Env B, episode:4\n"
     ]
    },
    {
     "name": "stdout",
     "output_type": "stream",
     "text": [
      "Stopping search: Swarm best objective change less than 1e-08\n",
      "Stopping search: Swarm best objective change less than 1e-08\n",
      "Stopping search: Swarm best objective change less than 1e-08\n",
      "Stopping search: Swarm best objective change less than 1e-08\n"
     ]
    },
    {
     "name": "stderr",
     "output_type": "stream",
     "text": [
      "2020-11-13 16:25:52 - INFO -              analyse() - Env B, episode:5\n"
     ]
    },
    {
     "name": "stdout",
     "output_type": "stream",
     "text": [
      "Stopping search: Swarm best objective change less than 1e-08\n",
      "Stopping search: Swarm best objective change less than 1e-08\n"
     ]
    },
    {
     "name": "stderr",
     "output_type": "stream",
     "text": [
      "/home/xavier/sharing_resources/sharing_resources/lib/python3.6/site-packages/ipykernel_launcher.py:200: RuntimeWarning: More than 20 figures have been opened. Figures created through the pyplot interface (`matplotlib.pyplot.figure`) are retained until explicitly closed and may consume too much memory. (To control this warning, see the rcParam `figure.max_open_warning`).\n"
     ]
    },
    {
     "name": "stdout",
     "output_type": "stream",
     "text": [
      "Stopping search: Swarm best objective change less than 1e-08\n",
      "Stopping search: Swarm best objective change less than 1e-08\n"
     ]
    },
    {
     "name": "stderr",
     "output_type": "stream",
     "text": [
      "2020-11-13 16:25:56 - INFO -              analyse() - Env B, episode:6\n"
     ]
    },
    {
     "name": "stdout",
     "output_type": "stream",
     "text": [
      "Stopping search: Swarm best objective change less than 1e-08\n",
      "Stopping search: Swarm best objective change less than 1e-08\n",
      "Stopping search: Swarm best objective change less than 1e-08\n",
      "Stopping search: Swarm best objective change less than 1e-08\n"
     ]
    },
    {
     "name": "stderr",
     "output_type": "stream",
     "text": [
      "2020-11-13 16:26:00 - INFO -              analyse() - Env B, episode:7\n"
     ]
    },
    {
     "name": "stdout",
     "output_type": "stream",
     "text": [
      "Stopping search: Swarm best objective change less than 1e-08\n",
      "Stopping search: Swarm best objective change less than 1e-08\n",
      "Stopping search: Swarm best objective change less than 1e-08\n",
      "Stopping search: Swarm best objective change less than 1e-08\n"
     ]
    },
    {
     "name": "stderr",
     "output_type": "stream",
     "text": [
      "2020-11-13 16:26:04 - INFO -              analyse() - Env B, episode:8\n"
     ]
    },
    {
     "name": "stdout",
     "output_type": "stream",
     "text": [
      "Stopping search: Swarm best objective change less than 1e-08\n",
      "Stopping search: Swarm best objective change less than 1e-08\n",
      "Stopping search: Swarm best objective change less than 1e-08\n",
      "Stopping search: Swarm best objective change less than 1e-08\n"
     ]
    },
    {
     "name": "stderr",
     "output_type": "stream",
     "text": [
      "2020-11-13 16:26:09 - INFO -              analyse() - Env B, episode:9\n"
     ]
    },
    {
     "name": "stdout",
     "output_type": "stream",
     "text": [
      "Stopping search: Swarm best objective change less than 1e-08\n",
      "Stopping search: Swarm best objective change less than 1e-08\n",
      "Stopping search: Swarm best objective change less than 1e-08\n",
      "Stopping search: Swarm best objective change less than 1e-08\n"
     ]
    },
    {
     "name": "stderr",
     "output_type": "stream",
     "text": [
      "2020-11-13 16:26:13 - INFO -              analyse() - Env B, episode:10\n"
     ]
    },
    {
     "name": "stdout",
     "output_type": "stream",
     "text": [
      "Stopping search: Swarm best objective change less than 1e-08\n",
      "Stopping search: Swarm best objective change less than 1e-08\n",
      "Stopping search: Swarm best objective change less than 1e-08\n",
      "Stopping search: Swarm best objective change less than 1e-08\n"
     ]
    },
    {
     "name": "stderr",
     "output_type": "stream",
     "text": [
      "2020-11-13 16:26:17 - INFO -              analyse() - Env B, episode:11\n"
     ]
    },
    {
     "name": "stdout",
     "output_type": "stream",
     "text": [
      "Stopping search: Swarm best objective change less than 1e-08\n",
      "Stopping search: Swarm best objective change less than 1e-08\n",
      "Stopping search: Swarm best objective change less than 1e-08\n",
      "Stopping search: Swarm best objective change less than 1e-08\n"
     ]
    },
    {
     "name": "stderr",
     "output_type": "stream",
     "text": [
      "2020-11-13 16:26:22 - INFO -              analyse() - Env B, episode:12\n"
     ]
    },
    {
     "name": "stdout",
     "output_type": "stream",
     "text": [
      "Stopping search: Swarm best objective change less than 1e-08\n",
      "Stopping search: Swarm best objective change less than 1e-08\n",
      "Stopping search: Swarm best objective change less than 1e-08\n",
      "Stopping search: Swarm best objective change less than 1e-08\n"
     ]
    },
    {
     "name": "stderr",
     "output_type": "stream",
     "text": [
      "2020-11-13 16:26:26 - INFO -              analyse() - Env B, episode:13\n"
     ]
    },
    {
     "name": "stdout",
     "output_type": "stream",
     "text": [
      "Stopping search: Swarm best objective change less than 1e-08\n",
      "Stopping search: Swarm best objective change less than 1e-08\n",
      "Stopping search: Swarm best objective change less than 1e-08\n",
      "Stopping search: Swarm best objective change less than 1e-08\n"
     ]
    },
    {
     "name": "stderr",
     "output_type": "stream",
     "text": [
      "2020-11-13 16:26:30 - INFO -              analyse() - Env B, episode:14\n"
     ]
    },
    {
     "name": "stdout",
     "output_type": "stream",
     "text": [
      "Stopping search: Swarm best objective change less than 1e-08\n",
      "Stopping search: Swarm best objective change less than 1e-08\n",
      "Stopping search: Swarm best objective change less than 1e-08\n",
      "Stopping search: Swarm best objective change less than 1e-08\n"
     ]
    },
    {
     "name": "stderr",
     "output_type": "stream",
     "text": [
      "2020-11-13 16:26:33 - INFO -              analyse() - Env C, episode:0\n"
     ]
    },
    {
     "name": "stdout",
     "output_type": "stream",
     "text": [
      "Stopping search: Swarm best objective change less than 1e-08\n",
      "Stopping search: Swarm best objective change less than 1e-08\n",
      "Stopping search: Swarm best objective change less than 1e-08\n",
      "Stopping search: Swarm best objective change less than 1e-08\n"
     ]
    },
    {
     "name": "stderr",
     "output_type": "stream",
     "text": [
      "2020-11-13 16:26:38 - INFO -              analyse() - Env C, episode:1\n"
     ]
    },
    {
     "name": "stdout",
     "output_type": "stream",
     "text": [
      "Stopping search: Swarm best objective change less than 1e-08\n",
      "Stopping search: Swarm best objective change less than 1e-08\n",
      "Stopping search: Swarm best objective change less than 1e-08\n",
      "Stopping search: Swarm best objective change less than 1e-08\n"
     ]
    },
    {
     "name": "stderr",
     "output_type": "stream",
     "text": [
      "2020-11-13 16:26:42 - INFO -              analyse() - Env C, episode:2\n"
     ]
    },
    {
     "name": "stdout",
     "output_type": "stream",
     "text": [
      "Stopping search: Swarm best objective change less than 1e-08\n",
      "Stopping search: Swarm best objective change less than 1e-08\n",
      "Stopping search: Swarm best objective change less than 1e-08\n",
      "Stopping search: Swarm best objective change less than 1e-08\n"
     ]
    },
    {
     "name": "stderr",
     "output_type": "stream",
     "text": [
      "2020-11-13 16:26:47 - INFO -              analyse() - Env C, episode:3\n"
     ]
    },
    {
     "name": "stdout",
     "output_type": "stream",
     "text": [
      "Stopping search: Swarm best objective change less than 1e-08\n",
      "Stopping search: Swarm best objective change less than 1e-08\n",
      "Stopping search: Swarm best objective change less than 1e-08\n",
      "Stopping search: Swarm best objective change less than 1e-08\n"
     ]
    },
    {
     "name": "stderr",
     "output_type": "stream",
     "text": [
      "2020-11-13 16:26:50 - INFO -              analyse() - Env C, episode:4\n"
     ]
    },
    {
     "name": "stdout",
     "output_type": "stream",
     "text": [
      "Stopping search: Swarm best objective change less than 1e-08\n",
      "Stopping search: Swarm best objective change less than 1e-08\n",
      "Stopping search: Swarm best objective change less than 1e-08\n",
      "Stopping search: Swarm best objective change less than 1e-08\n"
     ]
    },
    {
     "name": "stderr",
     "output_type": "stream",
     "text": [
      "2020-11-13 16:26:54 - INFO -              analyse() - Env C, episode:5\n"
     ]
    },
    {
     "name": "stdout",
     "output_type": "stream",
     "text": [
      "Stopping search: Swarm best objective change less than 1e-08\n",
      "Stopping search: Swarm best objective change less than 1e-08\n",
      "Stopping search: Swarm best objective change less than 1e-08\n",
      "Stopping search: Swarm best objective change less than 1e-08\n"
     ]
    },
    {
     "name": "stderr",
     "output_type": "stream",
     "text": [
      "2020-11-13 16:26:59 - INFO -              analyse() - Env C, episode:6\n"
     ]
    },
    {
     "name": "stdout",
     "output_type": "stream",
     "text": [
      "Stopping search: Swarm best objective change less than 1e-08\n",
      "Stopping search: Swarm best objective change less than 1e-08\n",
      "Stopping search: Swarm best objective change less than 1e-08\n",
      "Stopping search: Swarm best objective change less than 1e-08\n"
     ]
    },
    {
     "name": "stderr",
     "output_type": "stream",
     "text": [
      "2020-11-13 16:27:03 - INFO -              analyse() - Env C, episode:7\n"
     ]
    },
    {
     "name": "stdout",
     "output_type": "stream",
     "text": [
      "Stopping search: Swarm best objective change less than 1e-08\n",
      "Stopping search: Swarm best objective change less than 1e-08\n",
      "Stopping search: Swarm best objective change less than 1e-08\n",
      "Stopping search: Swarm best objective change less than 1e-08\n"
     ]
    },
    {
     "name": "stderr",
     "output_type": "stream",
     "text": [
      "2020-11-13 16:27:07 - INFO -              analyse() - Env C, episode:8\n"
     ]
    },
    {
     "name": "stdout",
     "output_type": "stream",
     "text": [
      "Stopping search: Swarm best objective change less than 1e-08\n",
      "Stopping search: Swarm best objective change less than 1e-08\n",
      "Stopping search: Swarm best objective change less than 1e-08\n",
      "Stopping search: Swarm best objective change less than 1e-08\n"
     ]
    },
    {
     "name": "stderr",
     "output_type": "stream",
     "text": [
      "2020-11-13 16:27:11 - INFO -              analyse() - Env C, episode:9\n"
     ]
    },
    {
     "name": "stdout",
     "output_type": "stream",
     "text": [
      "Stopping search: Swarm best objective change less than 1e-08\n",
      "Stopping search: Swarm best objective change less than 1e-08\n",
      "Stopping search: Swarm best objective change less than 1e-08\n",
      "Stopping search: Swarm best objective change less than 1e-08\n"
     ]
    },
    {
     "name": "stderr",
     "output_type": "stream",
     "text": [
      "2020-11-13 16:27:16 - INFO -              analyse() - Env C, episode:10\n"
     ]
    },
    {
     "name": "stdout",
     "output_type": "stream",
     "text": [
      "Stopping search: Swarm best objective change less than 1e-08\n",
      "Stopping search: Swarm best objective change less than 1e-08\n",
      "Stopping search: Swarm best objective change less than 1e-08\n",
      "Stopping search: Swarm best objective change less than 1e-08\n"
     ]
    },
    {
     "name": "stderr",
     "output_type": "stream",
     "text": [
      "2020-11-13 16:27:20 - INFO -              analyse() - Env C, episode:11\n"
     ]
    },
    {
     "name": "stdout",
     "output_type": "stream",
     "text": [
      "Stopping search: Swarm best objective change less than 1e-08\n",
      "Stopping search: Swarm best objective change less than 1e-08\n",
      "Stopping search: Swarm best objective change less than 1e-08\n",
      "Stopping search: Swarm best objective change less than 1e-08\n"
     ]
    },
    {
     "name": "stderr",
     "output_type": "stream",
     "text": [
      "2020-11-13 16:27:24 - INFO -              analyse() - Env C, episode:12\n"
     ]
    },
    {
     "name": "stdout",
     "output_type": "stream",
     "text": [
      "Stopping search: Swarm best objective change less than 1e-08\n",
      "Stopping search: Swarm best objective change less than 1e-08\n",
      "Stopping search: Swarm best objective change less than 1e-08\n",
      "Stopping search: Swarm best objective change less than 1e-08\n"
     ]
    },
    {
     "name": "stderr",
     "output_type": "stream",
     "text": [
      "2020-11-13 16:27:27 - INFO -              analyse() - Env C, episode:13\n"
     ]
    },
    {
     "name": "stdout",
     "output_type": "stream",
     "text": [
      "Stopping search: Swarm best objective change less than 1e-08\n",
      "Stopping search: Swarm best objective change less than 1e-08\n",
      "Stopping search: Swarm best objective change less than 1e-08\n",
      "Stopping search: Swarm best objective change less than 1e-08\n"
     ]
    },
    {
     "name": "stderr",
     "output_type": "stream",
     "text": [
      "2020-11-13 16:27:32 - INFO -              analyse() - Env C, episode:14\n"
     ]
    },
    {
     "name": "stdout",
     "output_type": "stream",
     "text": [
      "Stopping search: Swarm best objective change less than 1e-08\n",
      "Stopping search: Swarm best objective change less than 1e-08\n",
      "Stopping search: Swarm best objective change less than 1e-08\n",
      "Stopping search: Swarm best objective change less than 1e-08\n",
      "Stopping search: Swarm best objective change less than 1e-08\n"
     ]
    },
    {
     "data": {
      "image/png": "[encoded data removed]",
      "text/plain": [
       "<Figure size 432x288 with 3 Axes>"
      ]
     },
     "metadata": {
      "needs_background": "light"
     },
     "output_type": "display_data"
    },
    {
     "data": {
      "image/png": "[encoded data removed]",
      "text/plain": [
       "<Figure size 432x288 with 3 Axes>"
      ]
     },
     "metadata": {
      "needs_background": "light"
     },
     "output_type": "display_data"
    },
    {
     "data": {
      "image/png": "[encoded data removed]",
      "text/plain": [
       "<Figure size 432x288 with 3 Axes>"
      ]
     },
     "metadata": {
      "needs_background": "light"
     },
     "output_type": "display_data"
    },
    {
     "data": {
      "image/png": "[encoded data removed]",
      "text/plain": [
       "<Figure size 432x288 with 3 Axes>"
      ]
     },
     "metadata": {
      "needs_background": "light"
     },
     "output_type": "display_data"
    },
    {
     "data": {
      "image/png": "[encoded data removed]",
      "text/plain": [
       "<Figure size 432x288 with 3 Axes>"
      ]
     },
     "metadata": {
      "needs_background": "light"
     },
     "output_type": "display_data"
    },
    {
     "data": {
      "image/png": "[encoded data removed]",
      "text/plain": [
       "<Figure size 432x288 with 3 Axes>"
      ]
     },
     "metadata": {
      "needs_background": "light"
     },
     "output_type": "display_data"
    },
    {
     "data": {
      "image/png": "[encoded data removed]",
      "text/plain": [
       "<Figure size 432x288 with 3 Axes>"
      ]
     },
     "metadata": {
      "needs_background": "light"
     },
     "output_type": "display_data"
    },
    {
     "data": {
      "image/png": "[encoded data removed]",
      "text/plain": [
       "<Figure size 432x288 with 3 Axes>"
      ]
     },
     "metadata": {
      "needs_background": "light"
     },
     "output_type": "display_data"
    },
    {
     "data": {
      "image/png": "[encoded data removed]",
      "text/plain": [
       "<Figure size 432x288 with 3 Axes>"
      ]
     },
     "metadata": {
      "needs_background": "light"
     },
     "output_type": "display_data"
    },
    {
     "data": {
      "image/png": "[encoded data removed]",
      "text/plain": [
       "<Figure size 432x288 with 3 Axes>"
      ]
     },
     "metadata": {
      "needs_background": "light"
     },
     "output_type": "display_data"
    },
    {
     "data": {
      "image/png": "[encoded data removed]",
      "text/plain": [
       "<Figure size 432x288 with 3 Axes>"
      ]
     },
     "metadata": {
      "needs_background": "light"
     },
     "output_type": "display_data"
    },
    {
     "data": {
      "image/png": "[encoded data removed]",
      "text/plain": [
       "<Figure size 432x288 with 3 Axes>"
      ]
     },
     "metadata": {
      "needs_background": "light"
     },
     "output_type": "display_data"
    },
    {
     "data": {
      "image/png": "[encoded data removed]",
      "text/plain": [
       "<Figure size 432x288 with 3 Axes>"
      ]
     },
     "metadata": {
      "needs_background": "light"
     },
     "output_type": "display_data"
    },
    {
     "data": {
      "image/png": "[encoded data removed]",
      "text/plain": [
       "<Figure size 432x288 with 3 Axes>"
      ]
     },
     "metadata": {
      "needs_background": "light"
     },
     "output_type": "display_data"
    },
    {
     "data": {
      "image/png": "[encoded data removed]",
      "text/plain": [
       "<Figure size 432x288 with 3 Axes>"
      ]
     },
     "metadata": {
      "needs_background": "light"
     },
     "output_type": "display_data"
    },
    {
     "data": {
      "image/png": "[encoded data removed]",
      "text/plain": [
       "<Figure size 432x288 with 3 Axes>"
      ]
     },
     "metadata": {
      "needs_background": "light"
     },
     "output_type": "display_data"
    },
    {
     "data": {
      "image/png": "[encoded data removed]",
      "text/plain": [
       "<Figure size 432x288 with 3 Axes>"
      ]
     },
     "metadata": {
      "needs_background": "light"
     },
     "output_type": "display_data"
    },
    {
     "data": {
      "image/png": "[encoded data removed]",
      "text/plain": [
       "<Figure size 432x288 with 3 Axes>"
      ]
     },
     "metadata": {
      "needs_background": "light"
     },
     "output_type": "display_data"
    },
    {
     "data": {
      "image/png": "[encoded data removed]",
      "text/plain": [
       "<Figure size 432x288 with 3 Axes>"
      ]
     },
     "metadata": {
      "needs_background": "light"
     },
     "output_type": "display_data"
    },
    {
     "data": {
      "image/png": "[encoded data removed]",
      "text/plain": [
       "<Figure size 432x288 with 3 Axes>"
      ]
     },
     "metadata": {
      "needs_background": "light"
     },
     "output_type": "display_data"
    },
    {
     "data": {
      "image/png": "[encoded data removed]",
      "text/plain": [
       "<Figure size 432x288 with 3 Axes>"
      ]
     },
     "metadata": {
      "needs_background": "light"
     },
     "output_type": "display_data"
    },
    {
     "data": {
      "image/png": "[encoded data removed]",
      "text/plain": [
       "<Figure size 432x288 with 3 Axes>"
      ]
     },
     "metadata": {
      "needs_background": "light"
     },
     "output_type": "display_data"
    },
    {
     "data": {
      "image/png": "[encoded data removed]",
      "text/plain": [
       "<Figure size 432x288 with 3 Axes>"
      ]
     },
     "metadata": {
      "needs_background": "light"
     },
     "output_type": "display_data"
    },
    {
     "data": {
      "image/png": "[encoded data removed]",
      "text/plain": [
       "<Figure size 432x288 with 3 Axes>"
      ]
     },
     "metadata": {
      "needs_background": "light"
     },
     "output_type": "display_data"
    },
    {
     "data": {
      "image/png": "[encoded data removed]",
      "text/plain": [
       "<Figure size 432x288 with 3 Axes>"
      ]
     },
     "metadata": {
      "needs_background": "light"
     },
     "output_type": "display_data"
    },
    {
     "data": {
      "image/png": "[encoded data removed]",
      "text/plain": [
       "<Figure size 432x288 with 3 Axes>"
      ]
     },
     "metadata": {
      "needs_background": "light"
     },
     "output_type": "display_data"
    },
    {
     "data": {
      "image/png": "[encoded data removed]",
      "text/plain": [
       "<Figure size 432x288 with 3 Axes>"
      ]
     },
     "metadata": {
      "needs_background": "light"
     },
     "output_type": "display_data"
    },
    {
     "data": {
      "image/png": "[encoded data removed]",
      "text/plain": [
       "<Figure size 432x288 with 3 Axes>"
      ]
     },
     "metadata": {
      "needs_background": "light"
     },
     "output_type": "display_data"
    },
    {
     "data": {
      "image/png": "[encoded data removed]",
      "text/plain": [
       "<Figure size 432x288 with 3 Axes>"
      ]
     },
     "metadata": {
      "needs_background": "light"
     },
     "output_type": "display_data"
    },
    {
     "data": {
      "image/png": "[encoded data removed]",
      "text/plain": [
       "<Figure size 432x288 with 3 Axes>"
      ]
     },
     "metadata": {
      "needs_background": "light"
     },
     "output_type": "display_data"
    },
    {
     "data": {
      "image/png": "[encoded data removed]",
      "text/plain": [
       "<Figure size 432x288 with 3 Axes>"
      ]
     },
     "metadata": {
      "needs_background": "light"
     },
     "output_type": "display_data"
    },
    {
     "data": {
      "image/png": "[encoded data removed]",
      "text/plain": [
       "<Figure size 432x288 with 3 Axes>"
      ]
     },
     "metadata": {
      "needs_background": "light"
     },
     "output_type": "display_data"
    },
    {
     "data": {
      "image/png": "[encoded data removed]",
      "text/plain": [
       "<Figure size 432x288 with 3 Axes>"
      ]
     },
     "metadata": {
      "needs_background": "light"
     },
     "output_type": "display_data"
    },
    {
     "data": {
      "image/png": "[encoded data removed]",
      "text/plain": [
       "<Figure size 432x288 with 3 Axes>"
      ]
     },
     "metadata": {
      "needs_background": "light"
     },
     "output_type": "display_data"
    },
    {
     "data": {
      "image/png": "[encoded data removed]",
      "text/plain": [
       "<Figure size 432x288 with 3 Axes>"
      ]
     },
     "metadata": {
      "needs_background": "light"
     },
     "output_type": "display_data"
    },
    {
     "data": {
      "image/png": "[encoded data removed]",
      "text/plain": [
       "<Figure size 432x288 with 3 Axes>"
      ]
     },
     "metadata": {
      "needs_background": "light"
     },
     "output_type": "display_data"
    },
    {
     "data": {
      "image/png": "[encoded data removed]",
      "text/plain": [
       "<Figure size 432x288 with 3 Axes>"
      ]
     },
     "metadata": {
      "needs_background": "light"
     },
     "output_type": "display_data"
    },
    {
     "data": {
      "image/png": "[encoded data removed]",
      "text/plain": [
       "<Figure size 432x288 with 3 Axes>"
      ]
     },
     "metadata": {
      "needs_background": "light"
     },
     "output_type": "display_data"
    },
    {
     "data": {
      "image/png": "[encoded data removed]",
      "text/plain": [
       "<Figure size 432x288 with 3 Axes>"
      ]
     },
     "metadata": {
      "needs_background": "light"
     },
     "output_type": "display_data"
    },
    {
     "data": {
      "image/png": "[encoded data removed]",
      "text/plain": [
       "<Figure size 432x288 with 3 Axes>"
      ]
     },
     "metadata": {
      "needs_background": "light"
     },
     "output_type": "display_data"
    },
    {
     "data": {
      "image/png": "[encoded data removed]",
      "text/plain": [
       "<Figure size 432x288 with 3 Axes>"
      ]
     },
     "metadata": {
      "needs_background": "light"
     },
     "output_type": "display_data"
    },
    {
     "data": {
      "image/png": "[encoded data removed]",
      "text/plain": [
       "<Figure size 432x288 with 3 Axes>"
      ]
     },
     "metadata": {
      "needs_background": "light"
     },
     "output_type": "display_data"
    },
    {
     "data": {
      "image/png": "[encoded data removed]",
      "text/plain": [
       "<Figure size 432x288 with 3 Axes>"
      ]
     },
     "metadata": {
      "needs_background": "light"
     },
     "output_type": "display_data"
    },
    {
     "data": {
      "image/png": "[encoded data removed]",
      "text/plain": [
       "<Figure size 432x288 with 3 Axes>"
      ]
     },
     "metadata": {
      "needs_background": "light"
     },
     "output_type": "display_data"
    },
    {
     "data": {
      "image/png": "[encoded data removed]",
      "text/plain": [
       "<Figure size 432x288 with 3 Axes>"
      ]
     },
     "metadata": {
      "needs_background": "light"
     },
     "output_type": "display_data"
    }
   ],
   "source": [
    "results = do_experiments(state, experiments)"
   ]
  },
  {
   "cell_type": "code",
   "execution_count": 22,
   "metadata": {},
   "outputs": [
    {
     "data": {
      "text/plain": [
       "array([[-1.,  2.,  2.],\n",
       "       [ 2.,  2., -1.],\n",
       "       [ 2., -1.,  2.]])"
      ]
     },
     "execution_count": 22,
     "metadata": {},
     "output_type": "execute_result"
    }
   ],
   "source": [
    "# display the initial state\n",
    "state"
   ]
  },
  {
   "cell_type": "code",
   "execution_count": 23,
   "metadata": {},
   "outputs": [
    {
     "data": {
      "text/plain": [
       "[{'config': {'alpha': 0.0, 'beta': 0.1, 'r': 0.05, 'pure_tft': False},\n",
       "  'envs': {'env_A': <__main__.Environment at 0x7ff1d6fd8b70>,\n",
       "   'env_B': <__main__.Environment at 0x7ff1d6fd8550>,\n",
       "   'env_C': <__main__.Environment at 0x7ff1d6fd8780>},\n",
       "  'efficiency': 1,\n",
       "  'speed': 0.6,\n",
       "  'ut_c_cooperate': 3.3,\n",
       "  'ut_c_defect': 3.5,\n",
       "  'ut_a_cooperate_with_b_c_defect': 2.45,\n",
       "  'ut_a_cooperate_with_b_c_cooperate': 3.31,\n",
       "  'incentive-compatibility': -0.06,\n",
       "  'safety': -0.86}]"
      ]
     },
     "execution_count": 23,
     "metadata": {},
     "output_type": "execute_result"
    }
   ],
   "source": [
    "results"
   ]
  },
  {
   "cell_type": "code",
   "execution_count": 24,
   "metadata": {},
   "outputs": [
    {
     "data": {
      "text/plain": [
       "array([[0.98530183, 1.0302891 , 1.02401486],\n",
       "       [0.99050274, 1.00223151, 0.94265275],\n",
       "       [1.02419543, 0.96747939, 1.03333238]])"
      ]
     },
     "execution_count": 24,
     "metadata": {},
     "output_type": "execute_result"
    }
   ],
   "source": [
    "results[0]['envs']['env_A'].state"
   ]
  },
  {
   "cell_type": "code",
   "execution_count": 25,
   "metadata": {},
   "outputs": [
    {
     "data": {
      "image/png": "[encoded data removed]",
      "text/plain": [
       "<Figure size 432x288 with 3 Axes>"
      ]
     },
     "metadata": {
      "needs_background": "light"
     },
     "output_type": "display_data"
    }
   ],
   "source": [
    "results[0]['envs']['env_A'].show()"
   ]
  },
  {
   "cell_type": "code",
   "execution_count": 27,
   "metadata": {},
   "outputs": [
    {
     "data": {
      "image/png": "[encoded data removed]",
      "text/plain": [
       "<Figure size 432x288 with 3 Axes>"
      ]
     },
     "metadata": {
      "needs_background": "light"
     },
     "output_type": "display_data"
    }
   ],
   "source": [
    "results[0]['envs']['env_B'].show()"
   ]
  },
  {
   "cell_type": "code",
   "execution_count": 29,
   "metadata": {},
   "outputs": [
    {
     "data": {
      "image/png": "[encoded data removed]",
      "text/plain": [
       "<Figure size 432x288 with 3 Axes>"
      ]
     },
     "metadata": {
      "needs_background": "light"
     },
     "output_type": "display_data"
    }
   ],
   "source": [
    "results[0]['envs']['env_C'].show()"
   ]
  },
  {
   "cell_type": "code",
   "execution_count": 31,
   "metadata": {},
   "outputs": [
    {
     "name": "stderr",
     "output_type": "stream",
     "text": [
      "2020-11-13 16:30:26 - INFO -              analyse() - Env A, episode:0\n"
     ]
    },
    {
     "name": "stdout",
     "output_type": "stream",
     "text": [
      "Stopping search: Swarm best objective change less than 1e-08\n",
      "Stopping search: Swarm best objective change less than 1e-08\n",
      "Stopping search: Swarm best objective change less than 1e-08\n",
      "Stopping search: Swarm best objective change less than 1e-08\n"
     ]
    },
    {
     "name": "stderr",
     "output_type": "stream",
     "text": [
      "2020-11-13 16:30:30 - INFO -              analyse() - Env A, episode:1\n"
     ]
    },
    {
     "name": "stdout",
     "output_type": "stream",
     "text": [
      "Stopping search: Swarm best objective change less than 1e-08\n",
      "Stopping search: Swarm best objective change less than 1e-08\n",
      "Stopping search: Swarm best objective change less than 1e-08\n",
      "Stopping search: Swarm best objective change less than 1e-08\n"
     ]
    },
    {
     "name": "stderr",
     "output_type": "stream",
     "text": [
      "2020-11-13 16:30:34 - INFO -              analyse() - Env A, episode:2\n"
     ]
    },
    {
     "name": "stdout",
     "output_type": "stream",
     "text": [
      "Stopping search: Swarm best objective change less than 1e-08\n",
      "Stopping search: Swarm best objective change less than 1e-08\n",
      "Stopping search: Swarm best objective change less than 1e-08\n",
      "Stopping search: Swarm best objective change less than 1e-08\n"
     ]
    },
    {
     "name": "stderr",
     "output_type": "stream",
     "text": [
      "2020-11-13 16:30:38 - INFO -              analyse() - Env A, episode:3\n"
     ]
    },
    {
     "name": "stdout",
     "output_type": "stream",
     "text": [
      "Stopping search: Swarm best objective change less than 1e-08\n",
      "Stopping search: Swarm best objective change less than 1e-08\n",
      "Stopping search: Swarm best objective change less than 1e-08\n",
      "Stopping search: Swarm best objective change less than 1e-08\n"
     ]
    },
    {
     "name": "stderr",
     "output_type": "stream",
     "text": [
      "2020-11-13 16:30:41 - INFO -              analyse() - Env A, episode:4\n"
     ]
    },
    {
     "name": "stdout",
     "output_type": "stream",
     "text": [
      "Stopping search: Swarm best objective change less than 1e-08\n",
      "Stopping search: Swarm best objective change less than 1e-08\n",
      "Stopping search: Swarm best objective change less than 1e-08\n",
      "Stopping search: Swarm best objective change less than 1e-08\n"
     ]
    },
    {
     "name": "stderr",
     "output_type": "stream",
     "text": [
      "2020-11-13 16:30:45 - INFO -              analyse() - Env A, episode:5\n"
     ]
    },
    {
     "name": "stdout",
     "output_type": "stream",
     "text": [
      "Stopping search: Swarm best objective change less than 1e-08\n",
      "Stopping search: Swarm best objective change less than 1e-08\n",
      "Stopping search: Swarm best objective change less than 1e-08\n",
      "Stopping search: Swarm best objective change less than 1e-08\n"
     ]
    },
    {
     "name": "stderr",
     "output_type": "stream",
     "text": [
      "2020-11-13 16:30:49 - INFO -              analyse() - Env A, episode:6\n"
     ]
    },
    {
     "name": "stdout",
     "output_type": "stream",
     "text": [
      "Stopping search: Swarm best objective change less than 1e-08\n",
      "Stopping search: Swarm best objective change less than 1e-08\n",
      "Stopping search: Swarm best objective change less than 1e-08\n",
      "Stopping search: Swarm best objective change less than 1e-08\n"
     ]
    },
    {
     "name": "stderr",
     "output_type": "stream",
     "text": [
      "2020-11-13 16:30:53 - INFO -              analyse() - Env A, episode:7\n"
     ]
    },
    {
     "name": "stdout",
     "output_type": "stream",
     "text": [
      "Stopping search: Swarm best objective change less than 1e-08\n",
      "Stopping search: Swarm best objective change less than 1e-08\n",
      "Stopping search: Swarm best objective change less than 1e-08\n",
      "Stopping search: Swarm best objective change less than 1e-08\n"
     ]
    },
    {
     "name": "stderr",
     "output_type": "stream",
     "text": [
      "2020-11-13 16:30:57 - INFO -              analyse() - Env A, episode:8\n"
     ]
    },
    {
     "name": "stdout",
     "output_type": "stream",
     "text": [
      "Stopping search: Swarm best objective change less than 1e-08\n",
      "Stopping search: Swarm best objective change less than 1e-08\n",
      "Stopping search: Swarm best objective change less than 1e-08\n",
      "Stopping search: Swarm best objective change less than 1e-08\n"
     ]
    },
    {
     "name": "stderr",
     "output_type": "stream",
     "text": [
      "2020-11-13 16:31:02 - INFO -              analyse() - Env A, episode:9\n"
     ]
    },
    {
     "name": "stdout",
     "output_type": "stream",
     "text": [
      "Stopping search: Swarm best objective change less than 1e-08\n",
      "Stopping search: Swarm best objective change less than 1e-08\n",
      "Stopping search: Swarm best objective change less than 1e-08\n",
      "Stopping search: Swarm best objective change less than 1e-08\n"
     ]
    },
    {
     "name": "stderr",
     "output_type": "stream",
     "text": [
      "2020-11-13 16:31:06 - INFO -              analyse() - Env A, episode:10\n"
     ]
    },
    {
     "name": "stdout",
     "output_type": "stream",
     "text": [
      "Stopping search: Swarm best objective change less than 1e-08\n",
      "Stopping search: Swarm best objective change less than 1e-08\n",
      "Stopping search: Swarm best objective change less than 1e-08\n",
      "Stopping search: Swarm best objective change less than 1e-08\n"
     ]
    },
    {
     "name": "stderr",
     "output_type": "stream",
     "text": [
      "2020-11-13 16:31:09 - INFO -              analyse() - Env A, episode:11\n"
     ]
    },
    {
     "name": "stdout",
     "output_type": "stream",
     "text": [
      "Stopping search: Swarm best objective change less than 1e-08\n",
      "Stopping search: Swarm best objective change less than 1e-08\n",
      "Stopping search: Swarm best objective change less than 1e-08\n",
      "Stopping search: Swarm best objective change less than 1e-08\n"
     ]
    },
    {
     "name": "stderr",
     "output_type": "stream",
     "text": [
      "2020-11-13 16:31:13 - INFO -              analyse() - Env A, episode:12\n"
     ]
    },
    {
     "name": "stdout",
     "output_type": "stream",
     "text": [
      "Stopping search: Swarm best objective change less than 1e-08\n",
      "Stopping search: Swarm best objective change less than 1e-08\n",
      "Stopping search: Swarm best objective change less than 1e-08\n",
      "Stopping search: Swarm best objective change less than 1e-08\n"
     ]
    },
    {
     "name": "stderr",
     "output_type": "stream",
     "text": [
      "2020-11-13 16:31:17 - INFO -              analyse() - Env A, episode:13\n"
     ]
    },
    {
     "name": "stdout",
     "output_type": "stream",
     "text": [
      "Stopping search: Swarm best objective change less than 1e-08\n",
      "Stopping search: Swarm best objective change less than 1e-08\n",
      "Stopping search: Swarm best objective change less than 1e-08\n",
      "Stopping search: Swarm best objective change less than 1e-08\n"
     ]
    },
    {
     "name": "stderr",
     "output_type": "stream",
     "text": [
      "2020-11-13 16:31:21 - INFO -              analyse() - Env A, episode:14\n"
     ]
    },
    {
     "name": "stdout",
     "output_type": "stream",
     "text": [
      "Stopping search: Swarm best objective change less than 1e-08\n",
      "Stopping search: Swarm best objective change less than 1e-08\n",
      "Stopping search: Swarm best objective change less than 1e-08\n",
      "Stopping search: Swarm best objective change less than 1e-08\n"
     ]
    },
    {
     "name": "stderr",
     "output_type": "stream",
     "text": [
      "2020-11-13 16:31:25 - INFO -              analyse() - Env B, episode:0\n"
     ]
    },
    {
     "name": "stdout",
     "output_type": "stream",
     "text": [
      "Stopping search: Swarm best objective change less than 1e-08\n",
      "Stopping search: Swarm best objective change less than 1e-08\n",
      "Stopping search: Swarm best objective change less than 1e-08\n",
      "Stopping search: Swarm best objective change less than 1e-08\n"
     ]
    },
    {
     "name": "stderr",
     "output_type": "stream",
     "text": [
      "2020-11-13 16:31:29 - INFO -              analyse() - Env B, episode:1\n"
     ]
    },
    {
     "name": "stdout",
     "output_type": "stream",
     "text": [
      "Stopping search: Swarm best objective change less than 1e-08\n",
      "Stopping search: Swarm best objective change less than 1e-08\n",
      "Stopping search: Swarm best objective change less than 1e-08\n",
      "Stopping search: Swarm best objective change less than 1e-08\n"
     ]
    },
    {
     "name": "stderr",
     "output_type": "stream",
     "text": [
      "2020-11-13 16:31:33 - INFO -              analyse() - Env B, episode:2\n"
     ]
    },
    {
     "name": "stdout",
     "output_type": "stream",
     "text": [
      "Stopping search: Swarm best objective change less than 1e-08\n",
      "Stopping search: Swarm best objective change less than 1e-08\n",
      "Stopping search: Swarm best objective change less than 1e-08\n",
      "Stopping search: Swarm best objective change less than 1e-08\n"
     ]
    },
    {
     "name": "stderr",
     "output_type": "stream",
     "text": [
      "2020-11-13 16:31:37 - INFO -              analyse() - Env B, episode:3\n"
     ]
    },
    {
     "name": "stdout",
     "output_type": "stream",
     "text": [
      "Stopping search: Swarm best objective change less than 1e-08\n",
      "Stopping search: Swarm best objective change less than 1e-08\n",
      "Stopping search: Swarm best objective change less than 1e-08\n",
      "Stopping search: Swarm best objective change less than 1e-08\n"
     ]
    },
    {
     "name": "stderr",
     "output_type": "stream",
     "text": [
      "2020-11-13 16:31:41 - INFO -              analyse() - Env B, episode:4\n"
     ]
    },
    {
     "name": "stdout",
     "output_type": "stream",
     "text": [
      "Stopping search: Swarm best objective change less than 1e-08\n",
      "Stopping search: Swarm best objective change less than 1e-08\n",
      "Stopping search: Swarm best objective change less than 1e-08\n",
      "Stopping search: Swarm best objective change less than 1e-08\n"
     ]
    },
    {
     "name": "stderr",
     "output_type": "stream",
     "text": [
      "2020-11-13 16:31:46 - INFO -              analyse() - Env B, episode:5\n"
     ]
    },
    {
     "name": "stdout",
     "output_type": "stream",
     "text": [
      "Stopping search: Swarm best objective change less than 1e-08\n",
      "Stopping search: Swarm best objective change less than 1e-08\n"
     ]
    },
    {
     "name": "stderr",
     "output_type": "stream",
     "text": [
      "/home/xavier/sharing_resources/sharing_resources/lib/python3.6/site-packages/ipykernel_launcher.py:200: RuntimeWarning: More than 20 figures have been opened. Figures created through the pyplot interface (`matplotlib.pyplot.figure`) are retained until explicitly closed and may consume too much memory. (To control this warning, see the rcParam `figure.max_open_warning`).\n"
     ]
    },
    {
     "name": "stdout",
     "output_type": "stream",
     "text": [
      "Stopping search: Swarm best objective change less than 1e-08\n",
      "Stopping search: Swarm best objective change less than 1e-08\n"
     ]
    },
    {
     "name": "stderr",
     "output_type": "stream",
     "text": [
      "2020-11-13 16:31:51 - INFO -              analyse() - Env B, episode:6\n"
     ]
    },
    {
     "name": "stdout",
     "output_type": "stream",
     "text": [
      "Stopping search: Swarm best objective change less than 1e-08\n",
      "Stopping search: Swarm best objective change less than 1e-08\n",
      "Stopping search: Swarm best objective change less than 1e-08\n",
      "Stopping search: Swarm best objective change less than 1e-08\n"
     ]
    },
    {
     "name": "stderr",
     "output_type": "stream",
     "text": [
      "2020-11-13 16:31:56 - INFO -              analyse() - Env B, episode:7\n"
     ]
    },
    {
     "name": "stdout",
     "output_type": "stream",
     "text": [
      "Stopping search: Swarm best objective change less than 1e-08\n",
      "Stopping search: Swarm best objective change less than 1e-08\n",
      "Stopping search: Swarm best objective change less than 1e-08\n",
      "Stopping search: Swarm best objective change less than 1e-08\n"
     ]
    },
    {
     "name": "stderr",
     "output_type": "stream",
     "text": [
      "2020-11-13 16:32:00 - INFO -              analyse() - Env B, episode:8\n"
     ]
    },
    {
     "name": "stdout",
     "output_type": "stream",
     "text": [
      "Stopping search: Swarm best objective change less than 1e-08\n",
      "Stopping search: Swarm best objective change less than 1e-08\n",
      "Stopping search: Swarm best objective change less than 1e-08\n",
      "Stopping search: Swarm best objective change less than 1e-08\n"
     ]
    },
    {
     "name": "stderr",
     "output_type": "stream",
     "text": [
      "2020-11-13 16:32:03 - INFO -              analyse() - Env B, episode:9\n"
     ]
    },
    {
     "name": "stdout",
     "output_type": "stream",
     "text": [
      "Stopping search: Swarm best objective change less than 1e-08\n",
      "Stopping search: Swarm best objective change less than 1e-08\n",
      "Stopping search: Swarm best objective change less than 1e-08\n",
      "Stopping search: Swarm best objective change less than 1e-08\n"
     ]
    },
    {
     "name": "stderr",
     "output_type": "stream",
     "text": [
      "2020-11-13 16:32:08 - INFO -              analyse() - Env B, episode:10\n"
     ]
    },
    {
     "name": "stdout",
     "output_type": "stream",
     "text": [
      "Stopping search: Swarm best objective change less than 1e-08\n",
      "Stopping search: Swarm best objective change less than 1e-08\n",
      "Stopping search: Swarm best objective change less than 1e-08\n",
      "Stopping search: Swarm best objective change less than 1e-08\n"
     ]
    },
    {
     "name": "stderr",
     "output_type": "stream",
     "text": [
      "2020-11-13 16:32:12 - INFO -              analyse() - Env B, episode:11\n"
     ]
    },
    {
     "name": "stdout",
     "output_type": "stream",
     "text": [
      "Stopping search: Swarm best objective change less than 1e-08\n",
      "Stopping search: Swarm best objective change less than 1e-08\n",
      "Stopping search: Swarm best objective change less than 1e-08\n",
      "Stopping search: Swarm best objective change less than 1e-08\n"
     ]
    },
    {
     "name": "stderr",
     "output_type": "stream",
     "text": [
      "2020-11-13 16:32:15 - INFO -              analyse() - Env B, episode:12\n"
     ]
    },
    {
     "name": "stdout",
     "output_type": "stream",
     "text": [
      "Stopping search: Swarm best objective change less than 1e-08\n",
      "Stopping search: Swarm best objective change less than 1e-08\n",
      "Stopping search: Swarm best objective change less than 1e-08\n",
      "Stopping search: Swarm best objective change less than 1e-08\n"
     ]
    },
    {
     "name": "stderr",
     "output_type": "stream",
     "text": [
      "2020-11-13 16:32:18 - INFO -              analyse() - Env B, episode:13\n"
     ]
    },
    {
     "name": "stdout",
     "output_type": "stream",
     "text": [
      "Stopping search: Swarm best objective change less than 1e-08\n",
      "Stopping search: Swarm best objective change less than 1e-08\n",
      "Stopping search: Swarm best objective change less than 1e-08\n",
      "Stopping search: Swarm best objective change less than 1e-08\n"
     ]
    },
    {
     "name": "stderr",
     "output_type": "stream",
     "text": [
      "2020-11-13 16:32:23 - INFO -              analyse() - Env B, episode:14\n"
     ]
    },
    {
     "name": "stdout",
     "output_type": "stream",
     "text": [
      "Stopping search: Swarm best objective change less than 1e-08\n",
      "Stopping search: Swarm best objective change less than 1e-08\n",
      "Stopping search: Swarm best objective change less than 1e-08\n",
      "Stopping search: Swarm best objective change less than 1e-08\n"
     ]
    },
    {
     "name": "stderr",
     "output_type": "stream",
     "text": [
      "2020-11-13 16:32:27 - INFO -              analyse() - Env C, episode:0\n"
     ]
    },
    {
     "name": "stdout",
     "output_type": "stream",
     "text": [
      "Stopping search: Swarm best objective change less than 1e-08\n",
      "Stopping search: Swarm best objective change less than 1e-08\n",
      "Stopping search: Swarm best objective change less than 1e-08\n",
      "Stopping search: Swarm best objective change less than 1e-08\n"
     ]
    },
    {
     "name": "stderr",
     "output_type": "stream",
     "text": [
      "2020-11-13 16:32:31 - INFO -              analyse() - Env C, episode:1\n"
     ]
    },
    {
     "name": "stdout",
     "output_type": "stream",
     "text": [
      "Stopping search: Swarm best objective change less than 1e-08\n",
      "Stopping search: Swarm best objective change less than 1e-08\n",
      "Stopping search: Swarm best objective change less than 1e-08\n",
      "Stopping search: Swarm best objective change less than 1e-08\n"
     ]
    },
    {
     "name": "stderr",
     "output_type": "stream",
     "text": [
      "2020-11-13 16:32:35 - INFO -              analyse() - Env C, episode:2\n"
     ]
    },
    {
     "name": "stdout",
     "output_type": "stream",
     "text": [
      "Stopping search: Swarm best objective change less than 1e-08\n",
      "Stopping search: Swarm best objective change less than 1e-08\n",
      "Stopping search: Swarm best objective change less than 1e-08\n",
      "Stopping search: Swarm best objective change less than 1e-08\n"
     ]
    },
    {
     "name": "stderr",
     "output_type": "stream",
     "text": [
      "2020-11-13 16:32:39 - INFO -              analyse() - Env C, episode:3\n"
     ]
    },
    {
     "name": "stdout",
     "output_type": "stream",
     "text": [
      "Stopping search: Swarm best objective change less than 1e-08\n",
      "Stopping search: Swarm best objective change less than 1e-08\n",
      "Stopping search: Swarm best objective change less than 1e-08\n",
      "Stopping search: Swarm best objective change less than 1e-08\n"
     ]
    },
    {
     "name": "stderr",
     "output_type": "stream",
     "text": [
      "2020-11-13 16:32:42 - INFO -              analyse() - Env C, episode:4\n"
     ]
    },
    {
     "name": "stdout",
     "output_type": "stream",
     "text": [
      "Stopping search: Swarm best objective change less than 1e-08\n",
      "Stopping search: Swarm best objective change less than 1e-08\n",
      "Stopping search: Swarm best objective change less than 1e-08\n",
      "Stopping search: Swarm best objective change less than 1e-08\n"
     ]
    },
    {
     "name": "stderr",
     "output_type": "stream",
     "text": [
      "2020-11-13 16:32:46 - INFO -              analyse() - Env C, episode:5\n"
     ]
    },
    {
     "name": "stdout",
     "output_type": "stream",
     "text": [
      "Stopping search: Swarm best objective change less than 1e-08\n",
      "Stopping search: Swarm best objective change less than 1e-08\n",
      "Stopping search: Swarm best objective change less than 1e-08\n",
      "Stopping search: Swarm best objective change less than 1e-08\n"
     ]
    },
    {
     "name": "stderr",
     "output_type": "stream",
     "text": [
      "2020-11-13 16:32:50 - INFO -              analyse() - Env C, episode:6\n"
     ]
    },
    {
     "name": "stdout",
     "output_type": "stream",
     "text": [
      "Stopping search: Swarm best objective change less than 1e-08\n",
      "Stopping search: Swarm best objective change less than 1e-08\n",
      "Stopping search: Swarm best objective change less than 1e-08\n",
      "Stopping search: Swarm best objective change less than 1e-08\n"
     ]
    },
    {
     "name": "stderr",
     "output_type": "stream",
     "text": [
      "2020-11-13 16:32:55 - INFO -              analyse() - Env C, episode:7\n"
     ]
    },
    {
     "name": "stdout",
     "output_type": "stream",
     "text": [
      "Stopping search: Swarm best objective change less than 1e-08\n",
      "Stopping search: Swarm best objective change less than 1e-08\n",
      "Stopping search: Swarm best objective change less than 1e-08\n",
      "Stopping search: Swarm best objective change less than 1e-08\n"
     ]
    },
    {
     "name": "stderr",
     "output_type": "stream",
     "text": [
      "2020-11-13 16:32:58 - INFO -              analyse() - Env C, episode:8\n"
     ]
    },
    {
     "name": "stdout",
     "output_type": "stream",
     "text": [
      "Stopping search: Swarm best objective change less than 1e-08\n",
      "Stopping search: Swarm best objective change less than 1e-08\n",
      "Stopping search: Swarm best objective change less than 1e-08\n",
      "Stopping search: Swarm best objective change less than 1e-08\n"
     ]
    },
    {
     "name": "stderr",
     "output_type": "stream",
     "text": [
      "2020-11-13 16:33:02 - INFO -              analyse() - Env C, episode:9\n"
     ]
    },
    {
     "name": "stdout",
     "output_type": "stream",
     "text": [
      "Stopping search: Swarm best objective change less than 1e-08\n",
      "Stopping search: Swarm best objective change less than 1e-08\n",
      "Stopping search: Swarm best objective change less than 1e-08\n",
      "Stopping search: Swarm best objective change less than 1e-08\n"
     ]
    },
    {
     "name": "stderr",
     "output_type": "stream",
     "text": [
      "2020-11-13 16:33:06 - INFO -              analyse() - Env C, episode:10\n"
     ]
    },
    {
     "name": "stdout",
     "output_type": "stream",
     "text": [
      "Stopping search: Swarm best objective change less than 1e-08\n",
      "Stopping search: Swarm best objective change less than 1e-08\n",
      "Stopping search: Swarm best objective change less than 1e-08\n",
      "Stopping search: Swarm best objective change less than 1e-08\n"
     ]
    },
    {
     "name": "stderr",
     "output_type": "stream",
     "text": [
      "2020-11-13 16:33:10 - INFO -              analyse() - Env C, episode:11\n"
     ]
    },
    {
     "name": "stdout",
     "output_type": "stream",
     "text": [
      "Stopping search: Swarm best objective change less than 1e-08\n",
      "Stopping search: Swarm best objective change less than 1e-08\n",
      "Stopping search: Swarm best objective change less than 1e-08\n",
      "Stopping search: Swarm best objective change less than 1e-08\n"
     ]
    },
    {
     "name": "stderr",
     "output_type": "stream",
     "text": [
      "2020-11-13 16:33:14 - INFO -              analyse() - Env C, episode:12\n"
     ]
    },
    {
     "name": "stdout",
     "output_type": "stream",
     "text": [
      "Stopping search: Swarm best objective change less than 1e-08\n",
      "Stopping search: Swarm best objective change less than 1e-08\n",
      "Stopping search: Swarm best objective change less than 1e-08\n",
      "Stopping search: Swarm best objective change less than 1e-08\n"
     ]
    },
    {
     "name": "stderr",
     "output_type": "stream",
     "text": [
      "2020-11-13 16:33:18 - INFO -              analyse() - Env C, episode:13\n"
     ]
    },
    {
     "name": "stdout",
     "output_type": "stream",
     "text": [
      "Stopping search: Swarm best objective change less than 1e-08\n",
      "Stopping search: Swarm best objective change less than 1e-08\n",
      "Stopping search: Swarm best objective change less than 1e-08\n",
      "Stopping search: Swarm best objective change less than 1e-08\n"
     ]
    },
    {
     "name": "stderr",
     "output_type": "stream",
     "text": [
      "2020-11-13 16:33:22 - INFO -              analyse() - Env C, episode:14\n"
     ]
    },
    {
     "name": "stdout",
     "output_type": "stream",
     "text": [
      "Stopping search: Swarm best objective change less than 1e-08\n",
      "Stopping search: Swarm best objective change less than 1e-08\n",
      "Stopping search: Swarm best objective change less than 1e-08\n",
      "Stopping search: Swarm best objective change less than 1e-08\n",
      "Stopping search: Swarm best objective change less than 1e-08\n"
     ]
    },
    {
     "data": {
      "image/png": "[encoded data removed]",
      "text/plain": [
       "<Figure size 432x288 with 3 Axes>"
      ]
     },
     "metadata": {
      "needs_background": "light"
     },
     "output_type": "display_data"
    },
    {
     "data": {
      "image/png": "[encoded data removed]",
      "text/plain": [
       "<Figure size 432x288 with 3 Axes>"
      ]
     },
     "metadata": {
      "needs_background": "light"
     },
     "output_type": "display_data"
    },
    {
     "data": {
      "image/png": "[encoded data removed]",
      "text/plain": [
       "<Figure size 432x288 with 3 Axes>"
      ]
     },
     "metadata": {
      "needs_background": "light"
     },
     "output_type": "display_data"
    },
    {
     "data": {
      "image/png": "[encoded data removed]",
      "text/plain": [
       "<Figure size 432x288 with 3 Axes>"
      ]
     },
     "metadata": {
      "needs_background": "light"
     },
     "output_type": "display_data"
    },
    {
     "data": {
      "image/png": "[encoded data removed]",
      "text/plain": [
       "<Figure size 432x288 with 3 Axes>"
      ]
     },
     "metadata": {
      "needs_background": "light"
     },
     "output_type": "display_data"
    },
    {
     "data": {
      "image/png": "[encoded data removed]",
      "text/plain": [
       "<Figure size 432x288 with 3 Axes>"
      ]
     },
     "metadata": {
      "needs_background": "light"
     },
     "output_type": "display_data"
    },
    {
     "data": {
      "image/png": "[encoded data removed]",
      "text/plain": [
       "<Figure size 432x288 with 3 Axes>"
      ]
     },
     "metadata": {
      "needs_background": "light"
     },
     "output_type": "display_data"
    },
    {
     "data": {
      "image/png": "[encoded data removed]",
      "text/plain": [
       "<Figure size 432x288 with 3 Axes>"
      ]
     },
     "metadata": {
      "needs_background": "light"
     },
     "output_type": "display_data"
    },
    {
     "data": {
      "image/png": "[encoded data removed]",
      "text/plain": [
       "<Figure size 432x288 with 3 Axes>"
      ]
     },
     "metadata": {
      "needs_background": "light"
     },
     "output_type": "display_data"
    },
    {
     "data": {
      "image/png": "[encoded data removed]",
      "text/plain": [
       "<Figure size 432x288 with 3 Axes>"
      ]
     },
     "metadata": {
      "needs_background": "light"
     },
     "output_type": "display_data"
    },
    {
     "data": {
      "image/png": "[encoded data removed]",
      "text/plain": [
       "<Figure size 432x288 with 3 Axes>"
      ]
     },
     "metadata": {
      "needs_background": "light"
     },
     "output_type": "display_data"
    },
    {
     "data": {
      "image/png": "[encoded data removed]",
      "text/plain": [
       "<Figure size 432x288 with 3 Axes>"
      ]
     },
     "metadata": {
      "needs_background": "light"
     },
     "output_type": "display_data"
    },
    {
     "data": {
      "image/png": "[encoded data removed]",
      "text/plain": [
       "<Figure size 432x288 with 3 Axes>"
      ]
     },
     "metadata": {
      "needs_background": "light"
     },
     "output_type": "display_data"
    },
    {
     "data": {
      "image/png": "[encoded data removed]",
      "text/plain": [
       "<Figure size 432x288 with 3 Axes>"
      ]
     },
     "metadata": {
      "needs_background": "light"
     },
     "output_type": "display_data"
    },
    {
     "data": {
      "image/png": "[encoded data removed]",
      "text/plain": [
       "<Figure size 432x288 with 3 Axes>"
      ]
     },
     "metadata": {
      "needs_background": "light"
     },
     "output_type": "display_data"
    },
    {
     "data": {
      "image/png": "[encoded data removed]",
      "text/plain": [
       "<Figure size 432x288 with 3 Axes>"
      ]
     },
     "metadata": {
      "needs_background": "light"
     },
     "output_type": "display_data"
    },
    {
     "data": {
      "image/png": "[encoded data removed]",
      "text/plain": [
       "<Figure size 432x288 with 3 Axes>"
      ]
     },
     "metadata": {
      "needs_background": "light"
     },
     "output_type": "display_data"
    },
    {
     "data": {
      "image/png": "[encoded data removed]",
      "text/plain": [
       "<Figure size 432x288 with 3 Axes>"
      ]
     },
     "metadata": {
      "needs_background": "light"
     },
     "output_type": "display_data"
    },
    {
     "data": {
      "image/png": "[encoded data removed]",
      "text/plain": [
       "<Figure size 432x288 with 3 Axes>"
      ]
     },
     "metadata": {
      "needs_background": "light"
     },
     "output_type": "display_data"
    },
    {
     "data": {
      "image/png": "[encoded data removed]",
      "text/plain": [
       "<Figure size 432x288 with 3 Axes>"
      ]
     },
     "metadata": {
      "needs_background": "light"
     },
     "output_type": "display_data"
    },
    {
     "data": {
      "image/png": "[encoded data removed]",
      "text/plain": [
       "<Figure size 432x288 with 3 Axes>"
      ]
     },
     "metadata": {
      "needs_background": "light"
     },
     "output_type": "display_data"
    },
    {
     "data": {
      "image/png": "[encoded data removed]",
      "text/plain": [
       "<Figure size 432x288 with 3 Axes>"
      ]
     },
     "metadata": {
      "needs_background": "light"
     },
     "output_type": "display_data"
    },
    {
     "data": {
      "image/png": "[encoded data removed]",
      "text/plain": [
       "<Figure size 432x288 with 3 Axes>"
      ]
     },
     "metadata": {
      "needs_background": "light"
     },
     "output_type": "display_data"
    },
    {
     "data": {
      "image/png": "[encoded data removed]",
      "text/plain": [
       "<Figure size 432x288 with 3 Axes>"
      ]
     },
     "metadata": {
      "needs_background": "light"
     },
     "output_type": "display_data"
    },
    {
     "data": {
      "image/png": "[encoded data removed]",
      "text/plain": [
       "<Figure size 432x288 with 3 Axes>"
      ]
     },
     "metadata": {
      "needs_background": "light"
     },
     "output_type": "display_data"
    },
    {
     "data": {
      "image/png": "[encoded data removed]",
      "text/plain": [
       "<Figure size 432x288 with 3 Axes>"
      ]
     },
     "metadata": {
      "needs_background": "light"
     },
     "output_type": "display_data"
    },
    {
     "data": {
      "image/png": "[encoded data removed]",
      "text/plain": [
       "<Figure size 432x288 with 3 Axes>"
      ]
     },
     "metadata": {
      "needs_background": "light"
     },
     "output_type": "display_data"
    },
    {
     "data": {
      "image/png": "[encoded data removed]",
      "text/plain": [
       "<Figure size 432x288 with 3 Axes>"
      ]
     },
     "metadata": {
      "needs_background": "light"
     },
     "output_type": "display_data"
    },
    {
     "data": {
      "image/png": "[encoded data removed]",
      "text/plain": [
       "<Figure size 432x288 with 3 Axes>"
      ]
     },
     "metadata": {
      "needs_background": "light"
     },
     "output_type": "display_data"
    },
    {
     "data": {
      "image/png": "[encoded data removed]",
      "text/plain": [
       "<Figure size 432x288 with 3 Axes>"
      ]
     },
     "metadata": {
      "needs_background": "light"
     },
     "output_type": "display_data"
    },
    {
     "data": {
      "image/png": "[encoded data removed]",
      "text/plain": [
       "<Figure size 432x288 with 3 Axes>"
      ]
     },
     "metadata": {
      "needs_background": "light"
     },
     "output_type": "display_data"
    },
    {
     "data": {
      "image/png": "[encoded data removed]",
      "text/plain": [
       "<Figure size 432x288 with 3 Axes>"
      ]
     },
     "metadata": {
      "needs_background": "light"
     },
     "output_type": "display_data"
    },
    {
     "data": {
      "image/png": "[encoded data removed]",
      "text/plain": [
       "<Figure size 432x288 with 3 Axes>"
      ]
     },
     "metadata": {
      "needs_background": "light"
     },
     "output_type": "display_data"
    },
    {
     "data": {
      "image/png": "[encoded data removed]",
      "text/plain": [
       "<Figure size 432x288 with 3 Axes>"
      ]
     },
     "metadata": {
      "needs_background": "light"
     },
     "output_type": "display_data"
    },
    {
     "data": {
      "image/png": "[encoded data removed]",
      "text/plain": [
       "<Figure size 432x288 with 3 Axes>"
      ]
     },
     "metadata": {
      "needs_background": "light"
     },
     "output_type": "display_data"
    },
    {
     "data": {
      "image/png": "[encoded data removed]",
      "text/plain": [
       "<Figure size 432x288 with 3 Axes>"
      ]
     },
     "metadata": {
      "needs_background": "light"
     },
     "output_type": "display_data"
    },
    {
     "data": {
      "image/png": "[encoded data removed]",
      "text/plain": [
       "<Figure size 432x288 with 3 Axes>"
      ]
     },
     "metadata": {
      "needs_background": "light"
     },
     "output_type": "display_data"
    },
    {
     "data": {
      "image/png": "[encoded data removed]",
      "text/plain": [
       "<Figure size 432x288 with 3 Axes>"
      ]
     },
     "metadata": {
      "needs_background": "light"
     },
     "output_type": "display_data"
    },
    {
     "data": {
      "image/png": "[encoded data removed]",
      "text/plain": [
       "<Figure size 432x288 with 3 Axes>"
      ]
     },
     "metadata": {
      "needs_background": "light"
     },
     "output_type": "display_data"
    },
    {
     "data": {
      "image/png": "[encoded data removed]",
      "text/plain": [
       "<Figure size 432x288 with 3 Axes>"
      ]
     },
     "metadata": {
      "needs_background": "light"
     },
     "output_type": "display_data"
    },
    {
     "data": {
      "image/png": "[encoded data removed]",
      "text/plain": [
       "<Figure size 432x288 with 3 Axes>"
      ]
     },
     "metadata": {
      "needs_background": "light"
     },
     "output_type": "display_data"
    },
    {
     "data": {
      "image/png": "[encoded data removed]",
      "text/plain": [
       "<Figure size 432x288 with 3 Axes>"
      ]
     },
     "metadata": {
      "needs_background": "light"
     },
     "output_type": "display_data"
    },
    {
     "data": {
      "image/png": "[encoded data removed]",
      "text/plain": [
       "<Figure size 432x288 with 3 Axes>"
      ]
     },
     "metadata": {
      "needs_background": "light"
     },
     "output_type": "display_data"
    },
    {
     "data": {
      "image/png": "[encoded data removed]",
      "text/plain": [
       "<Figure size 432x288 with 3 Axes>"
      ]
     },
     "metadata": {
      "needs_background": "light"
     },
     "output_type": "display_data"
    },
    {
     "data": {
      "image/png": "[encoded data removed]",
      "text/plain": [
       "<Figure size 432x288 with 3 Axes>"
      ]
     },
     "metadata": {
      "needs_background": "light"
     },
     "output_type": "display_data"
    }
   ],
   "source": [
    "state = STATE_E\n",
    "experiments_3 = [\n",
    "    # beta, r, alpha\n",
    "    (1.0, 0.0, 0.0),\n",
    "]\n",
    "results_ptft = do_experiments(STATE_F, experiments_3, pure_tft=True)"
   ]
  },
  {
   "cell_type": "code",
   "execution_count": 32,
   "metadata": {},
   "outputs": [
    {
     "data": {
      "text/plain": [
       "array([[-1.,  2.,  2.],\n",
       "       [ 2.,  2., -1.],\n",
       "       [ 2., -1.,  2.]])"
      ]
     },
     "execution_count": 32,
     "metadata": {},
     "output_type": "execute_result"
    }
   ],
   "source": [
    "# display the initial state\n",
    "state"
   ]
  },
  {
   "cell_type": "code",
   "execution_count": 33,
   "metadata": {},
   "outputs": [
    {
     "data": {
      "text/plain": [
       "[{'config': {'alpha': 0.0, 'beta': 1.0, 'r': 0.0, 'pure_tft': True},\n",
       "  'envs': {'env_A': <__main__.Environment at 0x7ff1d1ea2d68>,\n",
       "   'env_B': <__main__.Environment at 0x7ff1d1ea2dd8>,\n",
       "   'env_C': <__main__.Environment at 0x7ff1d1f9c4e0>},\n",
       "  'efficiency': 1,\n",
       "  'speed': 0.85,\n",
       "  'ut_c_cooperate': 4.26,\n",
       "  'ut_c_defect': 4.35,\n",
       "  'ut_a_cooperate_with_b_c_defect': 2.96,\n",
       "  'ut_a_cooperate_with_b_c_cooperate': 3.7,\n",
       "  'incentive-compatibility': -0.02,\n",
       "  'safety': -0.74}]"
      ]
     },
     "execution_count": 33,
     "metadata": {},
     "output_type": "execute_result"
    }
   ],
   "source": [
    "results_ptft"
   ]
  },
  {
   "cell_type": "code",
   "execution_count": 34,
   "metadata": {},
   "outputs": [
    {
     "data": {
      "image/png": "[encoded data removed]",
      "text/plain": [
       "<Figure size 432x288 with 3 Axes>"
      ]
     },
     "metadata": {
      "needs_background": "light"
     },
     "output_type": "display_data"
    }
   ],
   "source": [
    "results[0]['envs']['env_A'].show()"
   ]
  },
  {
   "cell_type": "code",
   "execution_count": 35,
   "metadata": {},
   "outputs": [
    {
     "data": {
      "image/png": "[encoded data removed]",
      "text/plain": [
       "<Figure size 432x288 with 3 Axes>"
      ]
     },
     "metadata": {
      "needs_background": "light"
     },
     "output_type": "display_data"
    }
   ],
   "source": [
    "results[0]['envs']['env_B'].show()"
   ]
  },
  {
   "cell_type": "code",
   "execution_count": 36,
   "metadata": {},
   "outputs": [
    {
     "data": {
      "image/png": "[encoded data removed]",
      "text/plain": [
       "<Figure size 432x288 with 3 Axes>"
      ]
     },
     "metadata": {
      "needs_background": "light"
     },
     "output_type": "display_data"
    }
   ],
   "source": [
    "results[0]['envs']['env_C'].show()"
   ]
  },
  {
   "cell_type": "code",
   "execution_count": null,
   "metadata": {},
   "outputs": [],
   "source": []
  }
 ],
 "metadata": {
  "kernelspec": {
   "display_name": "Python 3",
   "language": "python",
   "name": "python3"
  },
  "language_info": {
   "codemirror_mode": {
    "name": "ipython",
    "version": 3
   },
   "file_extension": ".py",
   "mimetype": "text/x-python",
   "name": "python",
   "nbconvert_exporter": "python",
   "pygments_lexer": "ipython3",
   "version": "3.6.9"
  }
 },
 "nbformat": 4,
 "nbformat_minor": 2
}
